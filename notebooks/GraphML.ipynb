{
 "cells": [
  {
   "cell_type": "code",
   "execution_count": 1,
   "metadata": {
    "collapsed": false
   },
   "outputs": [
    {
     "data": {
      "text/plain": [
       "'/Users/olivier/Developer/calculette/calculette-impots-vector-computing/notebooks'"
      ]
     },
     "execution_count": 1,
     "metadata": {},
     "output_type": "execute_result"
    }
   ],
   "source": [
    "import os\n",
    "os.getcwd()"
   ]
  },
  {
   "cell_type": "code",
   "execution_count": 2,
   "metadata": {
    "collapsed": true
   },
   "outputs": [],
   "source": [
    "os.chdir('/Users/olivier/Developer/calculette/calculette-impots-vector-computing/src')"
   ]
  },
  {
   "cell_type": "code",
   "execution_count": 46,
   "metadata": {
    "collapsed": true
   },
   "outputs": [],
   "source": [
    "import json\n",
    "from xml.etree.ElementTree import Element, SubElement, ElementTree"
   ]
  },
  {
   "cell_type": "markdown",
   "metadata": {},
   "source": [
    "# Load nodes"
   ]
  },
  {
   "cell_type": "code",
   "execution_count": 3,
   "metadata": {
    "collapsed": false
   },
   "outputs": [],
   "source": [
    "with open('../json/nodes.json', 'r') as f:\n",
    "    nodes = json.load(f)"
   ]
  },
  {
   "cell_type": "markdown",
   "metadata": {},
   "source": [
    "# Create document"
   ]
  },
  {
   "cell_type": "code",
   "execution_count": 57,
   "metadata": {
    "collapsed": false
   },
   "outputs": [],
   "source": [
    "namespaces ={ \"xmlns\": \"http://graphml.graphdrawing.org/xmlns\", \"xmlns:xsi\" : \"http://www.w3.org/2001/XMLSchema-instance\", \"xsi:schemaLocation\" : \"http://graphml.graphdrawing.org/xmlns http://graphml.graphdrawing.org/mlns/1.0/graphml.xsd\"}\n",
    "doc = Element('graphml', namespaces)\n",
    "\n",
    "SubElement(doc, \"key\", {\"attr.name\" : \"Node Label\", \"id\" : \"label\", \"for\" : \"node\", \"attr.type\" : \"string\"})\n",
    "SubElement(doc, \"key\", {\"id\" : \"r\", \"attr.name\" : \"r\", \"attr.type\" : \"int\", \"for\" : \"node\"})\n",
    "SubElement(doc, \"key\", {\"id\" : \"g\", \"attr.name\" : \"g\", \"attr.type\" : \"int\", \"for\" : \"node\"})\n",
    "SubElement(doc, \"key\", {\"id\" : \"b\", \"attr.name\" : \"b\", \"attr.type\" : \"int\", \"for\" : \"node\"})\n",
    "SubElement(doc, \"key\", {\"id\" : \"d6\", \"attr.name\" : \"Color\", \"attr.type\" : \"string\", \"for\" : \"node\"})\n",
    "graph = SubElement(doc, \"graph\", {\"id\" : \"principal\", \"edgeDefault\" : \"directed\"})\n"
   ]
  },
  {
   "cell_type": "markdown",
   "metadata": {},
   "source": [
    "# Add a node to graph"
   ]
  },
  {
   "cell_type": "code",
   "execution_count": 58,
   "metadata": {
    "collapsed": true
   },
   "outputs": [],
   "source": [
    "def addNode(parent, name):\n",
    "    n = SubElement(parent, \"node\", {\"id\" : name})\n",
    "    label = SubElement(n, \"data\", {\"key\" : \"label\"} )\n",
    "    label.text = name\n",
    "    if name in ['IREST', 'ITRED', 'CHTOT', 'NBPT', 'REVKIRE', 'BCSG', 'BRDS', 'IBM23', 'TXMOYIMP', 'NAPTIR', 'IINET', 'RRRBG', 'RNI', 'IDRS3', 'IAVIM'] :\n",
    "        c = SubElement(n, \"data\", {\"key\" : \"r\"} )\n",
    "        c.text=\"255\"\n",
    "        c = SubElement(n, \"data\", {\"key\" : \"g\"} )\n",
    "        c.text=\"0\"\n",
    "        c = SubElement(n, \"data\", {\"key\" : \"b\"} )\n",
    "        c.text=\"0\"\n",
    "        c = SubElement(n, \"data\", {\"key\" : \"d6\"} )\n",
    "        c.text=\"#FF0000\"\n",
    "    if name in ['V_0AC', 'V_0AM', 'V_0AD', 'V_0AV', 'V_0AO', 'V_0CF', 'TSHALLOV', 'ALLOV', 'PRBRV', 'TSHALLOC', 'ALLOC', 'PRBRC', 'RCMABD', 'RCMHAB', 'COD2CK', 'DCSG', 'RDDOUP'] :\n",
    "        c = SubElement(n, \"data\", {\"key\" : \"r\"} )\n",
    "        c.text=\"0\"\n",
    "        c = SubElement(n, \"data\", {\"key\" : \"g\"} )\n",
    "        c.text=\"255\"\n",
    "        c = SubElement(n, \"data\", {\"key\" : \"b\"} )\n",
    "        c.text=\"0\"\n",
    "        c = SubElement(n, \"data\", {\"key\" : \"d6\"} )\n",
    "        c.text=\"#00FF00\""
   ]
  },
  {
   "cell_type": "markdown",
   "metadata": {},
   "source": [
    "# Build graph"
   ]
  },
  {
   "cell_type": "code",
   "execution_count": 60,
   "metadata": {
    "collapsed": false
   },
   "outputs": [],
   "source": [
    "#First all nodes\n",
    "for k in nodes:\n",
    "    addNode(graph, k)\n",
    "    #Verify if all subnodes are known\n",
    "    for e in nodes[k]:\n",
    "        if(e in nodes) :\n",
    "            addNode(graph, e)\n",
    "\n",
    "# Then the edges    \n",
    "for k in nodes:\n",
    "    for edge in nodes[k]:\n",
    "        ed = SubElement(graph, \"edge\", {\"source\" : k, \"target\" : edge, \"id\" : k+\"|\"+edge, \"label\" : k+\"-\"+edge})"
   ]
  },
  {
   "cell_type": "markdown",
   "metadata": {},
   "source": [
    "# Output to graphml file"
   ]
  },
  {
   "cell_type": "code",
   "execution_count": 61,
   "metadata": {
    "collapsed": true
   },
   "outputs": [],
   "source": [
    "ElementTree(doc).write(\"../nodes.graphml\", encoding=\"utf-8\", xml_declaration=True)"
   ]
  },
  {
   "cell_type": "code",
   "execution_count": null,
   "metadata": {
    "collapsed": true
   },
   "outputs": [],
   "source": []
  }
 ],
 "metadata": {
  "kernelspec": {
   "display_name": "Python 3",
   "language": "python",
   "name": "python3"
  },
  "language_info": {
   "codemirror_mode": {
    "name": "ipython",
    "version": 3
   },
   "file_extension": ".py",
   "mimetype": "text/x-python",
   "name": "python",
   "nbconvert_exporter": "python",
   "pygments_lexer": "ipython3",
   "version": "3.5.1"
  }
 },
 "nbformat": 4,
 "nbformat_minor": 0
}
