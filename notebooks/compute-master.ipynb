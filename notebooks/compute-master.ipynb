{
 "cells": [
  {
   "cell_type": "markdown",
   "metadata": {},
   "source": [
    "## No vector computing"
   ]
  },
  {
   "cell_type": "code",
   "execution_count": 1,
   "metadata": {
    "collapsed": false
   },
   "outputs": [],
   "source": [
    "import compute_std\n",
    "import function_set_std"
   ]
  },
  {
   "cell_type": "code",
   "execution_count": 2,
   "metadata": {
    "collapsed": true
   },
   "outputs": [],
   "source": [
    "alias_values = {'1AJ': 30000.}"
   ]
  },
  {
   "cell_type": "code",
   "execution_count": 3,
   "metadata": {
    "collapsed": false
   },
   "outputs": [],
   "source": [
    "input_values = compute_std.prepare(alias_values)"
   ]
  },
  {
   "cell_type": "code",
   "execution_count": 4,
   "metadata": {
    "collapsed": false
   },
   "outputs": [
    {
     "data": {
      "text/plain": [
       "{'BCSG': 0.0,\n",
       " 'BRDS': 0.0,\n",
       " 'IAVIM': 2707.0,\n",
       " 'IBM23': 2461.0,\n",
       " 'IDRS3': 2461.0,\n",
       " 'IINET': 2707.0,\n",
       " 'NAPTIR': 2707.0,\n",
       " 'NBPT': 1.0,\n",
       " 'REVKIRE': 0.0,\n",
       " 'RNI': 27000.0,\n",
       " 'RRRBG': 27000.0,\n",
       " 'TXMOYIMP': 9.11}"
      ]
     },
     "execution_count": 4,
     "metadata": {},
     "output_type": "execute_result"
    }
   ],
   "source": [
    "compute_std.compute(input_values)"
   ]
  },
  {
   "cell_type": "code",
   "execution_count": 5,
   "metadata": {
    "collapsed": false
   },
   "outputs": [
    {
     "name": "stdout",
     "output_type": "stream",
     "text": [
      "1 loop, best of 3: 412 ms per loop\n"
     ]
    }
   ],
   "source": [
    "%timeit compute_std.compute(input_values)"
   ]
  },
  {
   "cell_type": "markdown",
   "metadata": {},
   "source": [
    "## Vector computing"
   ]
  },
  {
   "cell_type": "code",
   "execution_count": 6,
   "metadata": {
    "collapsed": false
   },
   "outputs": [],
   "source": [
    "import compute_np\n",
    "import function_set_np"
   ]
  },
  {
   "cell_type": "code",
   "execution_count": 7,
   "metadata": {
    "collapsed": true
   },
   "outputs": [],
   "source": [
    "alias_values = {'1AJ': 30000.}"
   ]
  },
  {
   "cell_type": "code",
   "execution_count": 8,
   "metadata": {
    "collapsed": true
   },
   "outputs": [],
   "source": [
    "input_values = compute_np.prepare(alias_values)"
   ]
  },
  {
   "cell_type": "code",
   "execution_count": 9,
   "metadata": {
    "collapsed": false
   },
   "outputs": [
    {
     "data": {
      "text/plain": [
       "{'BCSG': array([ 0.,  0.,  0., ...,  0.,  0.,  0.]),\n",
       " 'BRDS': array([ 0.,  0.,  0., ...,  0.,  0.,  0.]),\n",
       " 'IAVIM': array([ 4430.,  4430.,  4430., ...,  4430.,  4430.,  4430.]),\n",
       " 'IBM23': array([ 2461.,  2461.,  2461., ...,  2461.,  2461.,  2461.]),\n",
       " 'IDRS3': array([ 2461.,  2461.,  2461., ...,  2461.,  2461.,  2461.]),\n",
       " 'IINET': array([ 4430.,  4430.,  4430., ...,  4430.,  4430.,  4430.]),\n",
       " 'NAPTIR': array([ 4430.,  4430.,  4430., ...,  4430.,  4430.,  4430.]),\n",
       " 'NBPT': array([ 1.,  1.,  1., ...,  1.,  1.,  1.]),\n",
       " 'REVKIRE': array([ 0.,  0.,  0., ...,  0.,  0.,  0.]),\n",
       " 'RNI': array([ 27000.,  27000.,  27000., ...,  27000.,  27000.,  27000.]),\n",
       " 'RRRBG': array([ 27000.,  27000.,  27000., ...,  27000.,  27000.,  27000.]),\n",
       " 'TXMOYIMP': array([ 9.11,  9.11,  9.11, ...,  9.11,  9.11,  9.11])}"
      ]
     },
     "execution_count": 9,
     "metadata": {},
     "output_type": "execute_result"
    }
   ],
   "source": [
    "compute_np.compute(input_values)"
   ]
  },
  {
   "cell_type": "code",
   "execution_count": 10,
   "metadata": {
    "collapsed": false
   },
   "outputs": [
    {
     "name": "stdout",
     "output_type": "stream",
     "text": [
      "1 loop, best of 3: 4.81 s per loop\n"
     ]
    }
   ],
   "source": [
    "%timeit compute_np.compute(input_values)"
   ]
  },
  {
   "cell_type": "code",
   "execution_count": null,
   "metadata": {
    "collapsed": true
   },
   "outputs": [],
   "source": []
  }
 ],
 "metadata": {
  "kernelspec": {
   "display_name": "Python 3",
   "language": "python",
   "name": "python3"
  },
  "language_info": {
   "codemirror_mode": {
    "name": "ipython",
    "version": 3
   },
   "file_extension": ".py",
   "mimetype": "text/x-python",
   "name": "python",
   "nbconvert_exporter": "python",
   "pygments_lexer": "ipython3",
   "version": "3.4.3+"
  }
 },
 "nbformat": 4,
 "nbformat_minor": 0
}
