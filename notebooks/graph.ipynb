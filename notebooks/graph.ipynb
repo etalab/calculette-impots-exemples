{
 "cells": [
  {
   "cell_type": "code",
   "execution_count": 1,
   "metadata": {
    "collapsed": false
   },
   "outputs": [],
   "source": [
    "import json\n",
    "import collections\n",
    "import numpy as np"
   ]
  },
  {
   "cell_type": "code",
   "execution_count": 2,
   "metadata": {
    "collapsed": false
   },
   "outputs": [],
   "source": [
    "with open('../json/formulas.json', 'r') as f:\n",
    "    formulas = json.load(f)\n",
    "with open('../json/constants.json', 'r') as f:\n",
    "    constants = json.load(f)\n",
    "with open('../json/input_variables.json', 'r') as f:\n",
    "    input_variables = json.load(f)"
   ]
  },
  {
   "cell_type": "code",
   "execution_count": 3,
   "metadata": {
    "collapsed": true
   },
   "outputs": [],
   "source": [
    "# important variables\n",
    "roots = ['NBPT', 'REVKIRE', 'BCSG', 'BRDS', 'IBM23', 'TXMOYIMP', 'NAPTIR', 'IINET', 'RRRBG', 'RNI', 'IDRS3', 'IAVIM']"
   ]
  },
  {
   "cell_type": "markdown",
   "metadata": {},
   "source": [
    "# Get dependencies and find a good computation order"
   ]
  },
  {
   "cell_type": "markdown",
   "metadata": {},
   "source": [
    "## Get dependencies"
   ]
  },
  {
   "cell_type": "code",
   "execution_count": 4,
   "metadata": {
    "collapsed": true
   },
   "outputs": [],
   "source": [
    "def get_children(node):\n",
    "    nodetype = node['nodetype']\n",
    "\n",
    "    if nodetype == 'symbol':\n",
    "        name = node['name']\n",
    "        return set([name])\n",
    "        \n",
    "    elif nodetype == 'float':\n",
    "        return set()\n",
    "    \n",
    "    elif nodetype == 'call':\n",
    "        args = node['args']\n",
    "        children = set()\n",
    "        for arg in args:\n",
    "            children = children | get_children(arg)\n",
    "\n",
    "        return children\n",
    "        \n",
    "    raise ValueError('Unknown type : %s'%nodetype)"
   ]
  },
  {
   "cell_type": "code",
   "execution_count": 5,
   "metadata": {
    "collapsed": false
   },
   "outputs": [],
   "source": [
    "children_dict = {}\n",
    "for name, formula in formulas.items():\n",
    "    children_dict[name] = get_children(formula)"
   ]
  },
  {
   "cell_type": "markdown",
   "metadata": {},
   "source": [
    "## Find dependencies without formula"
   ]
  },
  {
   "cell_type": "code",
   "execution_count": 6,
   "metadata": {
    "collapsed": true
   },
   "outputs": [],
   "source": [
    "inputs_list = []\n",
    "for e in input_variables:\n",
    "    inputs_list.append(e['alias'])\n",
    "    inputs_list.append(e['name'])"
   ]
  },
  {
   "cell_type": "code",
   "execution_count": 7,
   "metadata": {
    "collapsed": false
   },
   "outputs": [],
   "source": [
    "unknown_variables = set()\n",
    "for k, v in children_dict.items():\n",
    "    for var in v:\n",
    "        if (var not in formulas) and (var not in constants) and (var not in inputs_list):\n",
    "            unknown_variables.add(var)"
   ]
  },
  {
   "cell_type": "code",
   "execution_count": 8,
   "metadata": {
    "collapsed": false
   },
   "outputs": [
    {
     "data": {
      "text/plain": [
       "1435"
      ]
     },
     "execution_count": 8,
     "metadata": {},
     "output_type": "execute_result"
    }
   ],
   "source": [
    "len(unknown_variables)"
   ]
  },
  {
   "cell_type": "markdown",
   "metadata": {},
   "source": [
    "## Parents"
   ]
  },
  {
   "cell_type": "code",
   "execution_count": 9,
   "metadata": {
    "collapsed": false
   },
   "outputs": [],
   "source": [
    "parents_dict = {}\n",
    "\n",
    "for k in children_dict:\n",
    "    parents_dict[k] = set()\n",
    "\n",
    "for parent, children in children_dict.items():\n",
    "    for child in children:\n",
    "        if child in children_dict:\n",
    "            parents_dict[child].add(parent)"
   ]
  },
  {
   "cell_type": "markdown",
   "metadata": {},
   "source": [
    "## Dependencies"
   ]
  },
  {
   "cell_type": "code",
   "execution_count": 10,
   "metadata": {
    "collapsed": false
   },
   "outputs": [],
   "source": [
    "to_inspect = roots[:]\n",
    "dependencies_formulas = []\n",
    "dependencies_constants = []\n",
    "dependencies_inputs = []\n",
    "dependencies_unknown = []\n",
    "\n",
    "while to_inspect:\n",
    "    node = to_inspect.pop()\n",
    "    \n",
    "    if node in dependencies_formulas:\n",
    "        continue\n",
    "     \n",
    "    for child in children_dict[node]:\n",
    "        if child in formulas:\n",
    "            if (child not in dependencies_formulas) and (child not in to_inspect):\n",
    "                to_inspect.append(child)\n",
    "        elif child in constants:\n",
    "            if child not in dependencies_constants:\n",
    "                dependencies_constants.append(child)\n",
    "        elif child in inputs_list:\n",
    "            if child not in dependencies_inputs:\n",
    "                dependencies_inputs.append(child)\n",
    "        elif child in unknown_variables:\n",
    "            if child not in dependencies_unknown:\n",
    "                dependencies_unknown.append(child)\n",
    "        else:\n",
    "            raise Exception('Unknown variable category : %s for parent %s.'%(child, node))\n",
    "\n",
    "    dependencies_formulas.append(node)\n"
   ]
  },
  {
   "cell_type": "code",
   "execution_count": 11,
   "metadata": {
    "collapsed": false
   },
   "outputs": [
    {
     "data": {
      "text/plain": [
       "4740"
      ]
     },
     "execution_count": 11,
     "metadata": {},
     "output_type": "execute_result"
    }
   ],
   "source": [
    "len(dependencies_formulas)"
   ]
  },
  {
   "cell_type": "code",
   "execution_count": 12,
   "metadata": {
    "collapsed": false
   },
   "outputs": [
    {
     "data": {
      "text/plain": [
       "233"
      ]
     },
     "execution_count": 12,
     "metadata": {},
     "output_type": "execute_result"
    }
   ],
   "source": [
    "len(dependencies_constants)"
   ]
  },
  {
   "cell_type": "code",
   "execution_count": 13,
   "metadata": {
    "collapsed": false
   },
   "outputs": [
    {
     "data": {
      "text/plain": [
       "1463"
      ]
     },
     "execution_count": 13,
     "metadata": {},
     "output_type": "execute_result"
    }
   ],
   "source": [
    "len(dependencies_inputs)"
   ]
  },
  {
   "cell_type": "code",
   "execution_count": 14,
   "metadata": {
    "collapsed": false
   },
   "outputs": [
    {
     "data": {
      "text/plain": [
       "782"
      ]
     },
     "execution_count": 14,
     "metadata": {},
     "output_type": "execute_result"
    }
   ],
   "source": [
    "len(dependencies_unknown)"
   ]
  },
  {
   "cell_type": "markdown",
   "metadata": {},
   "source": [
    "## Ignore useless variables"
   ]
  },
  {
   "cell_type": "code",
   "execution_count": 15,
   "metadata": {
    "collapsed": false
   },
   "outputs": [],
   "source": [
    "formulas_light = {k: formulas[k] for k in dependencies_formulas}\n",
    "constants_light = {k: constants[k] for k in dependencies_constants}\n",
    "inputs_light = dependencies_inputs\n",
    "unknowns_light = dependencies_unknown"
   ]
  },
  {
   "cell_type": "markdown",
   "metadata": {},
   "source": [
    "## Find cycles"
   ]
  },
  {
   "cell_type": "markdown",
   "metadata": {},
   "source": [
    "### Adjacency matrix : too long (do not execute the following cells)"
   ]
  },
  {
   "cell_type": "code",
   "execution_count": null,
   "metadata": {
    "collapsed": true
   },
   "outputs": [],
   "source": [
    "index = {}\n",
    "reverse_index = []\n",
    "for i, k in enumerate(formulas_light):\n",
    "    index[k] = i\n",
    "    reverse_index.append(k)"
   ]
  },
  {
   "cell_type": "code",
   "execution_count": null,
   "metadata": {
    "collapsed": true
   },
   "outputs": [],
   "source": [
    "n = len(index)\n",
    "adj = np.zeros((n, n))"
   ]
  },
  {
   "cell_type": "code",
   "execution_count": null,
   "metadata": {
    "collapsed": false
   },
   "outputs": [],
   "source": [
    "for parent in formulas_light:\n",
    "    children = children_dict[parent]\n",
    "    for child in children:\n",
    "        if child in children_dict:\n",
    "            adj[index[parent], index[child]] = 1"
   ]
  },
  {
   "cell_type": "code",
   "execution_count": null,
   "metadata": {
    "collapsed": false
   },
   "outputs": [],
   "source": [
    "current_power = 1\n",
    "while current_power <= n:\n",
    "    print(current_power)\n",
    "    adj = np.dot(adj, adj)\n",
    "    current_power += 1"
   ]
  },
  {
   "cell_type": "code",
   "execution_count": null,
   "metadata": {
    "collapsed": false
   },
   "outputs": [],
   "source": [
    "np.diag(adj).sum()"
   ]
  },
  {
   "cell_type": "markdown",
   "metadata": {
    "collapsed": true
   },
   "source": [
    "### Graph traversal : too long"
   ]
  },
  {
   "cell_type": "code",
   "execution_count": 16,
   "metadata": {
    "collapsed": false
   },
   "outputs": [],
   "source": [
    "children_light = {}\n",
    "for formula in formulas_light:\n",
    "    children_light[formula] = []\n",
    "    for child in children_dict[formula]:\n",
    "        if child in formulas_light:\n",
    "            children_light[formula].append(child)"
   ]
  },
  {
   "cell_type": "code",
   "execution_count": null,
   "metadata": {
    "collapsed": false
   },
   "outputs": [],
   "source": [
    "def cycle_research(node, genealogy):\n",
    "    if node in genealogy:\n",
    "        print('Cycle detected : %s'%str(genealogy))\n",
    "    else:\n",
    "        for child in children_light[node]:\n",
    "            child_genealogy = list(genealogy)\n",
    "            child_genealogy.append(node)\n",
    "            cycle_research(child, child_genealogy)\n",
    "        "
   ]
  },
  {
   "cell_type": "code",
   "execution_count": null,
   "metadata": {
    "collapsed": false
   },
   "outputs": [],
   "source": [
    "# do not execute this cell (too long)\n",
    "cycle_research('IRN', [])"
   ]
  },
  {
   "cell_type": "markdown",
   "metadata": {},
   "source": [
    "### Tarjan's strongly connected components algorithm"
   ]
  },
  {
   "cell_type": "code",
   "execution_count": 17,
   "metadata": {
    "collapsed": true
   },
   "outputs": [],
   "source": [
    "class State():\n",
    "    def __init__(self):\n",
    "        self.current_index = 0\n",
    "        self.stack = []\n",
    "        self.strongly_connected_components = []\n",
    "        self.tarjan_indexes = {}\n",
    "        self.low_link = {}\n",
    "s = State()"
   ]
  },
  {
   "cell_type": "code",
   "execution_count": 18,
   "metadata": {
    "collapsed": true
   },
   "outputs": [],
   "source": [
    "def strong_connect(node, s):\n",
    "    s.tarjan_indexes[node] = s.current_index\n",
    "    s.low_link[node] = s.current_index\n",
    "    s.current_index += 1\n",
    "    s.stack.append(node)\n",
    "\n",
    "    for child in children_light[node]:\n",
    "        if child not in s.tarjan_indexes:\n",
    "            strong_connect(child, s)\n",
    "            s.low_link[node] = min(s.low_link[node], s.low_link[child])\n",
    "        elif child in s.stack:\n",
    "            s.low_link[node] = min(s.low_link[node], s.tarjan_indexes[child])\n",
    "\n",
    "    if s.low_link[node] == s.tarjan_indexes[node]:\n",
    "        new_component = []\n",
    "        while s.stack[-1] != node:\n",
    "            new_component.append(s.stack.pop())\n",
    "        new_component.append(s.stack.pop())\n",
    "        s.strongly_connected_components.append(new_component)"
   ]
  },
  {
   "cell_type": "code",
   "execution_count": 19,
   "metadata": {
    "collapsed": false
   },
   "outputs": [],
   "source": [
    "for node in formulas_light:\n",
    "    if node not in s.tarjan_indexes:\n",
    "        strong_connect(node, s)"
   ]
  },
  {
   "cell_type": "code",
   "execution_count": 20,
   "metadata": {
    "collapsed": false
   },
   "outputs": [
    {
     "data": {
      "text/plain": [
       "Counter({1: 4740})"
      ]
     },
     "execution_count": 20,
     "metadata": {},
     "output_type": "execute_result"
    }
   ],
   "source": [
    "component_size = [len(comp) for comp in s.strongly_connected_components]\n",
    "c = collections.Counter(component_size)\n",
    "c"
   ]
  },
  {
   "cell_type": "markdown",
   "metadata": {},
   "source": [
    "## Find good computing order"
   ]
  },
  {
   "cell_type": "code",
   "execution_count": 21,
   "metadata": {
    "collapsed": true
   },
   "outputs": [],
   "source": [
    "def find_order(node):\n",
    "    is_leaf = True\n",
    "    for child in children_light[node]:\n",
    "        if child not in computing_order:\n",
    "            find_order(child)\n",
    "            \n",
    "    computing_order.append(node)\n"
   ]
  },
  {
   "cell_type": "code",
   "execution_count": 22,
   "metadata": {
    "collapsed": false
   },
   "outputs": [],
   "source": [
    "computing_order = []\n",
    "for root in roots:\n",
    "    find_order(root)"
   ]
  },
  {
   "cell_type": "code",
   "execution_count": 23,
   "metadata": {
    "collapsed": false
   },
   "outputs": [],
   "source": [
    "with open('../json/computing_order.json', 'w') as f:\n",
    "    f.write(json.dumps(computing_order))"
   ]
  },
  {
   "cell_type": "code",
   "execution_count": 24,
   "metadata": {
    "collapsed": true
   },
   "outputs": [],
   "source": [
    "with open('../json/children_light.json', 'w') as f:\n",
    "    f.write(json.dumps(children_light))\n",
    "    \n",
    "with open('../json/formulas_light.json', 'w') as f:\n",
    "    f.write(json.dumps(formulas_light))\n",
    "    \n",
    "with open('../json/constants_light.json', 'w') as f:\n",
    "    f.write(json.dumps(constants_light))\n",
    "    \n",
    "with open('../json/inputs_light.json', 'w') as f:\n",
    "    f.write(json.dumps(inputs_light))\n",
    "    \n",
    "with open('../json/unknowns_light.json', 'w') as f:\n",
    "    f.write(json.dumps(unknowns_light))    "
   ]
  },
  {
   "cell_type": "markdown",
   "metadata": {},
   "source": [
    "## Tree depth"
   ]
  },
  {
   "cell_type": "code",
   "execution_count": null,
   "metadata": {
    "collapsed": true
   },
   "outputs": [],
   "source": [
    "# recursive : too long (do not execute)\n",
    "def compute_depth(node):\n",
    "    children_depth = [compute_depth(child) for child in children_light[node]]\n",
    "    if children_depth:\n",
    "        return 1 + max(children_depth)\n",
    "    else:\n",
    "        return 1"
   ]
  },
  {
   "cell_type": "code",
   "execution_count": 25,
   "metadata": {
    "collapsed": true
   },
   "outputs": [],
   "source": [
    "depths = {}\n",
    "for var in computing_order:\n",
    "    children_depth = [depths[child] for child in children_light[var]]\n",
    "    if children_depth:\n",
    "        depths[var] = 1 + max(children_depth)\n",
    "    else:\n",
    "        depths[var] = 1"
   ]
  },
  {
   "cell_type": "code",
   "execution_count": 26,
   "metadata": {
    "collapsed": false
   },
   "outputs": [
    {
     "data": {
      "text/plain": [
       "1119"
      ]
     },
     "execution_count": 26,
     "metadata": {},
     "output_type": "execute_result"
    }
   ],
   "source": [
    "depths['IINET']"
   ]
  },
  {
   "cell_type": "code",
   "execution_count": null,
   "metadata": {
    "collapsed": true
   },
   "outputs": [],
   "source": []
  }
 ],
 "metadata": {
  "kernelspec": {
   "display_name": "Python 3",
   "language": "python",
   "name": "python3"
  },
  "language_info": {
   "codemirror_mode": {
    "name": "ipython",
    "version": 3
   },
   "file_extension": ".py",
   "mimetype": "text/x-python",
   "name": "python",
   "nbconvert_exporter": "python",
   "pygments_lexer": "ipython3",
   "version": "3.4.3"
  }
 },
 "nbformat": 4,
 "nbformat_minor": 0
}
