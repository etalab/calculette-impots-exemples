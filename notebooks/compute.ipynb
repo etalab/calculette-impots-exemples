{
 "cells": [
  {
   "cell_type": "code",
   "execution_count": 1,
   "metadata": {
    "collapsed": false
   },
   "outputs": [],
   "source": [
    "import json\n",
    "import collections\n",
    "import numpy as np"
   ]
  },
  {
   "cell_type": "code",
   "execution_count": 2,
   "metadata": {
    "collapsed": false
   },
   "outputs": [],
   "source": [
    "with open('../json/formulas.json', 'r') as f:\n",
    "    formulas = json.load(f)\n",
    "with open('../json/constants.json', 'r') as f:\n",
    "    constants = json.load(f)\n",
    "with open('../json/input_variables.json', 'r') as f:\n",
    "    input_variables = json.load(f)"
   ]
  },
  {
   "cell_type": "markdown",
   "metadata": {},
   "source": [
    "# Get dependencies and find a good computation order"
   ]
  },
  {
   "cell_type": "markdown",
   "metadata": {},
   "source": [
    "## Get dependecies"
   ]
  },
  {
   "cell_type": "code",
   "execution_count": 3,
   "metadata": {
    "collapsed": true
   },
   "outputs": [],
   "source": [
    "def get_children(node):\n",
    "    nodetype = node['nodetype']\n",
    "\n",
    "    if nodetype == 'symbol':\n",
    "        name = node['name']\n",
    "        return set([name])\n",
    "        \n",
    "    elif nodetype == 'float':\n",
    "        return set()\n",
    "    \n",
    "    elif nodetype == 'call':\n",
    "        args = node['args']\n",
    "        children = set()\n",
    "        for arg in args:\n",
    "            children = children | get_children(arg)\n",
    "\n",
    "        return children\n",
    "        \n",
    "    raise ValueError('Unknown type : %s'%nodetype)"
   ]
  },
  {
   "cell_type": "code",
   "execution_count": 4,
   "metadata": {
    "collapsed": false
   },
   "outputs": [],
   "source": [
    "children_dict = {}\n",
    "for name, formula in formulas.items():\n",
    "    children_dict[name] = get_children(formula)"
   ]
  },
  {
   "cell_type": "markdown",
   "metadata": {},
   "source": [
    "## Find dependencies without formula"
   ]
  },
  {
   "cell_type": "code",
   "execution_count": 5,
   "metadata": {
    "collapsed": true
   },
   "outputs": [],
   "source": [
    "inputs_list = []\n",
    "for e in input_variables:\n",
    "    inputs_list.append(e['alias'])\n",
    "    inputs_list.append(e['name'])"
   ]
  },
  {
   "cell_type": "code",
   "execution_count": 6,
   "metadata": {
    "collapsed": false
   },
   "outputs": [],
   "source": [
    "unknown_variables = set()\n",
    "for k, v in children_dict.items():\n",
    "    for var in v:\n",
    "        if (var not in formulas) and (var not in constants) and (var not in inputs_list):\n",
    "            unknown_variables.add(var)"
   ]
  },
  {
   "cell_type": "code",
   "execution_count": 7,
   "metadata": {
    "collapsed": false
   },
   "outputs": [
    {
     "data": {
      "text/plain": [
       "1435"
      ]
     },
     "execution_count": 7,
     "metadata": {},
     "output_type": "execute_result"
    }
   ],
   "source": [
    "len(unknown_variables)"
   ]
  },
  {
   "cell_type": "markdown",
   "metadata": {},
   "source": [
    "## Parents"
   ]
  },
  {
   "cell_type": "code",
   "execution_count": 8,
   "metadata": {
    "collapsed": false
   },
   "outputs": [],
   "source": [
    "parents_dict = {}\n",
    "\n",
    "for k in children_dict:\n",
    "    parents_dict[k] = set()\n",
    "\n",
    "for parent, children in children_dict.items():\n",
    "    for child in children:\n",
    "        if child in children_dict:\n",
    "            parents_dict[child].add(parent)"
   ]
  },
  {
   "cell_type": "markdown",
   "metadata": {},
   "source": [
    "## Dependencies"
   ]
  },
  {
   "cell_type": "code",
   "execution_count": 9,
   "metadata": {
    "collapsed": false
   },
   "outputs": [],
   "source": [
    "to_inspect = ['IRN']\n",
    "dependencies_formulas = []\n",
    "dependencies_constants = []\n",
    "dependencies_inputs = []\n",
    "dependencies_unknown = []\n",
    "\n",
    "while to_inspect:\n",
    "    node = to_inspect.pop()\n",
    "    \n",
    "    if node in dependencies_formulas:\n",
    "        continue\n",
    "     \n",
    "    for child in children_dict[node]:\n",
    "        if child in formulas:\n",
    "            if (child not in dependencies_formulas) and (child not in to_inspect):\n",
    "                to_inspect.append(child)\n",
    "        elif child in constants:\n",
    "            if child not in dependencies_constants:\n",
    "                dependencies_constants.append(child)\n",
    "        elif child in inputs_list:\n",
    "            if child not in dependencies_inputs:\n",
    "                dependencies_inputs.append(child)\n",
    "        elif child in unknown_variables:\n",
    "            if child not in dependencies_unknown:\n",
    "                dependencies_unknown.append(child)\n",
    "        else:\n",
    "            raise Exception('Unknown variable category : %s for parent %s.'%(child, node))\n",
    "\n",
    "    dependencies_formulas.append(node)\n"
   ]
  },
  {
   "cell_type": "code",
   "execution_count": 10,
   "metadata": {
    "collapsed": false
   },
   "outputs": [
    {
     "data": {
      "text/plain": [
       "4471"
      ]
     },
     "execution_count": 10,
     "metadata": {},
     "output_type": "execute_result"
    }
   ],
   "source": [
    "len(dependencies_formulas)"
   ]
  },
  {
   "cell_type": "code",
   "execution_count": 11,
   "metadata": {
    "collapsed": false
   },
   "outputs": [
    {
     "data": {
      "text/plain": [
       "215"
      ]
     },
     "execution_count": 11,
     "metadata": {},
     "output_type": "execute_result"
    }
   ],
   "source": [
    "len(dependencies_constants)"
   ]
  },
  {
   "cell_type": "code",
   "execution_count": 12,
   "metadata": {
    "collapsed": false
   },
   "outputs": [
    {
     "data": {
      "text/plain": [
       "1441"
      ]
     },
     "execution_count": 12,
     "metadata": {},
     "output_type": "execute_result"
    }
   ],
   "source": [
    "len(dependencies_inputs)"
   ]
  },
  {
   "cell_type": "code",
   "execution_count": 13,
   "metadata": {
    "collapsed": false
   },
   "outputs": [
    {
     "data": {
      "text/plain": [
       "779"
      ]
     },
     "execution_count": 13,
     "metadata": {},
     "output_type": "execute_result"
    }
   ],
   "source": [
    "len(dependencies_unknown)"
   ]
  },
  {
   "cell_type": "markdown",
   "metadata": {},
   "source": [
    "## Ignore useless variables"
   ]
  },
  {
   "cell_type": "code",
   "execution_count": 14,
   "metadata": {
    "collapsed": false
   },
   "outputs": [],
   "source": [
    "formulas_light = {k: formulas[k] for k in dependencies_formulas}\n",
    "constants_light = {k: constants[k] for k in dependencies_constants}\n",
    "inputs_light = dependencies_inputs\n",
    "unknowns_light = dependencies_unknown"
   ]
  },
  {
   "cell_type": "markdown",
   "metadata": {},
   "source": [
    "## Find cycles"
   ]
  },
  {
   "cell_type": "markdown",
   "metadata": {},
   "source": [
    "### Adjacency matrix : too long"
   ]
  },
  {
   "cell_type": "code",
   "execution_count": null,
   "metadata": {
    "collapsed": true
   },
   "outputs": [],
   "source": [
    "index = {}\n",
    "reverse_index = []\n",
    "for i, k in enumerate(formulas_light):\n",
    "    index[k] = i\n",
    "    reverse_index.append(k)"
   ]
  },
  {
   "cell_type": "code",
   "execution_count": null,
   "metadata": {
    "collapsed": true
   },
   "outputs": [],
   "source": [
    "n = len(index)\n",
    "adj = np.zeros((n, n))"
   ]
  },
  {
   "cell_type": "code",
   "execution_count": null,
   "metadata": {
    "collapsed": false
   },
   "outputs": [],
   "source": [
    "for parent in formulas_light:\n",
    "    children = children_dict[parent]\n",
    "    for child in children:\n",
    "        if child in children_dict:\n",
    "            adj[index[parent], index[child]] = 1"
   ]
  },
  {
   "cell_type": "code",
   "execution_count": null,
   "metadata": {
    "collapsed": false
   },
   "outputs": [],
   "source": [
    "current_power = 1\n",
    "while current_power <= n:\n",
    "    print(current_power)\n",
    "    adj = np.dot(adj, adj)\n",
    "    current_power += 1"
   ]
  },
  {
   "cell_type": "code",
   "execution_count": null,
   "metadata": {
    "collapsed": false
   },
   "outputs": [],
   "source": [
    "np.diag(adj).sum()"
   ]
  },
  {
   "cell_type": "markdown",
   "metadata": {
    "collapsed": true
   },
   "source": [
    "### Graph traversal : too long"
   ]
  },
  {
   "cell_type": "code",
   "execution_count": 25,
   "metadata": {
    "collapsed": false
   },
   "outputs": [],
   "source": [
    "children_light = {}\n",
    "for formula in formulas_light:\n",
    "    children_light[formula] = []\n",
    "    for child in children_dict[formula]:\n",
    "        if child in formulas_light:\n",
    "            children_light[formula].append(child)"
   ]
  },
  {
   "cell_type": "code",
   "execution_count": null,
   "metadata": {
    "collapsed": false
   },
   "outputs": [],
   "source": [
    "def cycle_research(node, genealogy):\n",
    "    if node in genealogy:\n",
    "        print('Cycle detected : %s'%str(genealogy))\n",
    "    else:\n",
    "        for child in children_light[node]:\n",
    "            child_genealogy = list(genealogy)\n",
    "            child_genealogy.append(node)\n",
    "            cycle_research(child, child_genealogy)\n",
    "        "
   ]
  },
  {
   "cell_type": "code",
   "execution_count": null,
   "metadata": {
    "collapsed": false
   },
   "outputs": [],
   "source": [
    "cycle_research('IRN', [])"
   ]
  },
  {
   "cell_type": "markdown",
   "metadata": {},
   "source": [
    "### Tarjan's strongly connected components algorithm"
   ]
  },
  {
   "cell_type": "code",
   "execution_count": 34,
   "metadata": {
    "collapsed": true
   },
   "outputs": [],
   "source": [
    "class State():\n",
    "    def __init__(self):\n",
    "        self.current_index = 0\n",
    "        self.stack = []\n",
    "        self.strongly_connected_components = []\n",
    "        self.tarjan_indexes = {}\n",
    "        self.low_link = {}\n",
    "s = State()"
   ]
  },
  {
   "cell_type": "code",
   "execution_count": 35,
   "metadata": {
    "collapsed": true
   },
   "outputs": [],
   "source": [
    "def strong_connect(node, s):\n",
    "    s.tarjan_indexes[node] = s.current_index\n",
    "    s.low_link[node] = s.current_index\n",
    "    s.current_index += 1\n",
    "    s.stack.append(node)\n",
    "\n",
    "    for child in children_light[node]:\n",
    "        if child not in s.tarjan_indexes:\n",
    "            strong_connect(child, s)\n",
    "            s.low_link[node] = min(s.low_link[node], s.low_link[child])\n",
    "        elif child in s.stack:\n",
    "            s.low_link[node] = min(s.low_link[node], s.tarjan_indexes[child])\n",
    "\n",
    "    if s.low_link[node] == s.tarjan_indexes[node]:\n",
    "        new_component = []\n",
    "        while s.stack[-1] != node:\n",
    "            new_component.append(s.stack.pop())\n",
    "        new_component.append(s.stack.pop())\n",
    "        s.strongly_connected_components.append(new_component)"
   ]
  },
  {
   "cell_type": "code",
   "execution_count": 36,
   "metadata": {
    "collapsed": false
   },
   "outputs": [],
   "source": [
    "for node in formulas_light:\n",
    "    if node not in s.tarjan_indexes:\n",
    "        strong_connect(node, s)"
   ]
  },
  {
   "cell_type": "code",
   "execution_count": 42,
   "metadata": {
    "collapsed": false
   },
   "outputs": [
    {
     "data": {
      "text/plain": [
       "Counter({1: 4471})"
      ]
     },
     "execution_count": 42,
     "metadata": {},
     "output_type": "execute_result"
    }
   ],
   "source": [
    "component_size = [len(comp) for comp in s.strongly_connected_components]\n",
    "c = collections.Counter(component_size)\n",
    "c"
   ]
  },
  {
   "cell_type": "markdown",
   "metadata": {},
   "source": [
    "## Find good computing order"
   ]
  },
  {
   "cell_type": "code",
   "execution_count": null,
   "metadata": {
    "collapsed": true
   },
   "outputs": [],
   "source": [
    "# doesn't work : too much recursion\n",
    "def find_order(node):\n",
    "    if node not in simple_dependencies_dict:\n",
    "        return\n",
    "        \n",
    "    deps = simple_dependencies_dict[node]\n",
    "    is_leaf = True\n",
    "    for dep in deps:\n",
    "        if dep not in computing_order:\n",
    "            find_order(dep)\n",
    "            \n",
    "    computing_order.append(node)\n",
    "            "
   ]
  },
  {
   "cell_type": "code",
   "execution_count": null,
   "metadata": {
    "collapsed": false
   },
   "outputs": [],
   "source": [
    "root = 'IINET'\n",
    "computing_order = []\n",
    "\n",
    "to_inspect = [root]\n",
    "while to_inspect:\n",
    "    node = to_inspect[-1]\n",
    "    is_leaf = True\n",
    "\n",
    "    if node in simple_dependencies_dict:\n",
    "        deps = simple_dependencies_dict[node]\n",
    "    \n",
    "        for dep in deps:\n",
    "            if dep not in computing_order:\n",
    "                is_leaf = False\n",
    "                if dep not in to_inspect:\n",
    "                    to_inspect.append(dep)\n",
    "            \n",
    "    if is_leaf:\n",
    "        computing_order.append(node)\n",
    "        to_inspect.pop()\n",
    "\n"
   ]
  },
  {
   "cell_type": "code",
   "execution_count": null,
   "metadata": {
    "collapsed": false
   },
   "outputs": [],
   "source": [
    "len(to_inspect)"
   ]
  },
  {
   "cell_type": "code",
   "execution_count": null,
   "metadata": {
    "collapsed": true
   },
   "outputs": [],
   "source": [
    "find_order(root)"
   ]
  },
  {
   "cell_type": "code",
   "execution_count": null,
   "metadata": {
    "collapsed": false
   },
   "outputs": [],
   "source": [
    "computing_order"
   ]
  },
  {
   "cell_type": "code",
   "execution_count": null,
   "metadata": {
    "collapsed": false
   },
   "outputs": [],
   "source": [
    "simple_dependencies_dict[root]"
   ]
  },
  {
   "cell_type": "markdown",
   "metadata": {},
   "source": [
    "## Compute"
   ]
  },
  {
   "cell_type": "code",
   "execution_count": null,
   "metadata": {
    "collapsed": true
   },
   "outputs": [],
   "source": [
    "def product(l):\n",
    "    accu = 1.\n",
    "    for e in l:\n",
    "        accu *= e\n",
    "    return accu\n",
    "\n",
    "def boolean_or(l):\n",
    "    for e in l:\n",
    "        if l:\n",
    "            return 1.\n",
    "    return 0.\n",
    "\n",
    "def boolean_et(l):\n",
    "    for e in l:\n",
    "        if not l:\n",
    "            return 0.\n",
    "    return 1.\n",
    "\n",
    "functions_mapping = {\n",
    "    '+': sum,\n",
    "    '*': product,\n",
    "    '-': (lambda x: -x[0]),\n",
    "    'positif': (lambda x: float(x[0]>0)),\n",
    "    'positif_ou_nul': (lambda x: float(x[0]>=0)),\n",
    "    'null': (lambda x: float(x[0]==0)),\n",
    "    'operator:>=': (lambda x: float(x[0]>=x[1])),\n",
    "    'operator:=': (lambda x: float(x[0]==x[1])),\n",
    "    'ternary': (lambda x: x[1] if x[0] else x[2]),\n",
    "    '/': (lambda x: x[0]/x[1] if x[1] else 0.),\n",
    "    'max': max,\n",
    "    'min': min,\n",
    "    'inf': (lambda x: math.floor(x[0])),\n",
    "    'arr': (lambda x: round(x[0])),\n",
    "    'abs': (lambda x: abs(x[0])),\n",
    "    'present': (lambda x: x[0] != 0.),\n",
    "    'boolean:ou': boolean_or,\n",
    "    'boolean:et': boolean_et,\n",
    "    'dans': (lambda x: 1. if (x[0] in x[1:]) else 0.)\n",
    "}\n"
   ]
  },
  {
   "cell_type": "code",
   "execution_count": null,
   "metadata": {
    "collapsed": true
   },
   "outputs": [],
   "source": [
    "def get_value(name):\n",
    "    if name not in known_values:\n",
    "        if name not in formulas_dict:\n",
    "            print('Variable %s not found !'%name)\n",
    "            known_values[name] = 0.\n",
    "        else:\n",
    "            formula = formulas_dict[name]\n",
    "            known_values[name] = compute(formula)\n",
    "            print('%d values known'%len(known_values))\n",
    "    return known_values[name]"
   ]
  },
  {
   "cell_type": "code",
   "execution_count": null,
   "metadata": {
    "collapsed": true
   },
   "outputs": [],
   "source": [
    "def compute(node):\n",
    "    nodetype = node['nodetype']\n",
    "\n",
    "    if nodetype == 'symbol':\n",
    "        name = node['name']\n",
    "        value = get_value(name)\n",
    "        return value \n",
    "        \n",
    "    elif nodetype == 'float':\n",
    "        value = node['value']\n",
    "        return value\n",
    "    \n",
    "    elif nodetype == 'call':\n",
    "        name = node['name']\n",
    "        args = [compute(child) for child in node['args']]\n",
    "        function = functions_mapping[name]\n",
    "        try:\n",
    "            value = function(args)\n",
    "        except TypeError:\n",
    "            print(args)\n",
    "            print(function)\n",
    "            raise TypeError()\n",
    "        return value\n",
    "        \n",
    "    raise ValueError('Unknown type : %s'%nodetype)"
   ]
  },
  {
   "cell_type": "code",
   "execution_count": null,
   "metadata": {
    "collapsed": true
   },
   "outputs": [],
   "source": [
    "saisie = {'TSHALLOV': 30000.}\n",
    "# http://www3.finances.gouv.fr/calcul_impot/2015/index.htm\n",
    "\n",
    "known_values = {}\n",
    "\n",
    "for c in constants:\n",
    "    name = c['name']\n",
    "    value = c['value']\n",
    "    known_values[name] = value\n",
    "\n",
    "for var in input_variables:\n",
    "    name = var['name']\n",
    "    alias = var['alias']\n",
    "    \n",
    "    known_alias = (alias in saisie)\n",
    "    known_name = (name in saisie)\n",
    "    \n",
    "    if known_alias and known_name:\n",
    "        raise ValueError('Variable defined twice.')\n",
    "    if known_alias:\n",
    "        value = saisie[alias]\n",
    "        known_values[alias] = value\n",
    "    else:\n",
    "        known_values[alias] = 0.\n",
    "        \n",
    "    if known_name:\n",
    "        value = saisie[name]\n",
    "        known_values[name] = value\n",
    "    else:\n",
    "        known_values[name] = 0.\n"
   ]
  },
  {
   "cell_type": "code",
   "execution_count": null,
   "metadata": {
    "collapsed": true
   },
   "outputs": [],
   "source": []
  },
  {
   "cell_type": "code",
   "execution_count": null,
   "metadata": {
    "collapsed": true
   },
   "outputs": [],
   "source": []
  }
 ],
 "metadata": {
  "kernelspec": {
   "display_name": "Python 3",
   "language": "python",
   "name": "python3"
  },
  "language_info": {
   "codemirror_mode": {
    "name": "ipython",
    "version": 3
   },
   "file_extension": ".py",
   "mimetype": "text/x-python",
   "name": "python",
   "nbconvert_exporter": "python",
   "pygments_lexer": "ipython3",
   "version": "3.4.3"
  }
 },
 "nbformat": 4,
 "nbformat_minor": 0
}
