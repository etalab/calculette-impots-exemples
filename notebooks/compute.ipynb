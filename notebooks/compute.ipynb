{
 "cells": [
  {
   "cell_type": "code",
   "execution_count": 14,
   "metadata": {
    "collapsed": true
   },
   "outputs": [],
   "source": [
    "import json"
   ]
  },
  {
   "cell_type": "code",
   "execution_count": 21,
   "metadata": {
    "collapsed": true
   },
   "outputs": [],
   "source": [
    "with open('../json/computing_order.json', 'r') as f:\n",
    "    computing_order = json.load(f)\n",
    "    \n",
    "with open('../json/children_light.json', 'r') as f:\n",
    "    children_light = json.load(f)\n",
    "\n",
    "with open('../json/formulas_light.json', 'r') as f:\n",
    "    formulas_light = json.load(f)\n",
    "    \n",
    "with open('../json/constants_light.json', 'r') as f:\n",
    "    constants_light = json.load(f)\n",
    "    \n",
    "with open('../json/inputs_light.json', 'r') as f:\n",
    "    inputs_light = json.load(f)\n",
    "    \n",
    "with open('../json/unknowns_light.json', 'r') as f:\n",
    "    unknowns_light = json.load(f)\n",
    "    \n",
    "with open('../json/input_variables.json', 'r') as f:\n",
    "    input_variables = json.load(f)\n"
   ]
  },
  {
   "cell_type": "markdown",
   "metadata": {},
   "source": [
    "## Function definitions"
   ]
  },
  {
   "cell_type": "code",
   "execution_count": 42,
   "metadata": {
    "collapsed": true
   },
   "outputs": [],
   "source": [
    "import math\n",
    "\n",
    "def product(l):\n",
    "    accu = 1.\n",
    "    for e in l:\n",
    "        accu *= e\n",
    "    return accu\n",
    "\n",
    "def boolean_or(l):\n",
    "    for e in l:\n",
    "        if l:\n",
    "            return 1.\n",
    "    return 0.\n",
    "\n",
    "def boolean_et(l):\n",
    "    for e in l:\n",
    "        if not l:\n",
    "            return 0.\n",
    "    return 1.\n",
    "\n",
    "functions_mapping = {\n",
    "    '+': sum,\n",
    "    '*': product,\n",
    "    '-': (lambda x: -x[0]),\n",
    "    'positif': (lambda x: float(x[0]>0)),\n",
    "    'positif_ou_nul': (lambda x: float(x[0]>=0)),\n",
    "    'null': (lambda x: float(x[0]==0)),\n",
    "    'operator:>=': (lambda x: float(x[0]>=x[1])),\n",
    "    'operator:=': (lambda x: float(x[0]==x[1])),\n",
    "    'ternary': (lambda x: x[1] if x[0] else x[2]),\n",
    "    'si': (lambda x: x[1] if x[0] else 0.),\n",
    "    '/': (lambda x: x[0]/x[1] if x[1] else 0.),\n",
    "    'max': max,\n",
    "    'min': min,\n",
    "    'inf': (lambda x: math.floor(x[0])),\n",
    "    'arr': (lambda x: round(x[0])),\n",
    "    'abs': (lambda x: abs(x[0])),\n",
    "    'present': (lambda x: x[0] != 0.),\n",
    "    'boolean:ou': boolean_or,\n",
    "    'boolean:et': boolean_et,\n",
    "    'dans': (lambda x: 1. if (x[0] in x[1:]) else 0.)\n",
    "}\n"
   ]
  },
  {
   "cell_type": "markdown",
   "metadata": {},
   "source": [
    "## Computation\n",
    "\n",
    "http://www3.finances.gouv.fr/calcul_impot/2015/index.htm\n"
   ]
  },
  {
   "cell_type": "code",
   "execution_count": 30,
   "metadata": {
    "collapsed": true
   },
   "outputs": [],
   "source": [
    "alias_values = {'1AJ': 30000.}"
   ]
  },
  {
   "cell_type": "code",
   "execution_count": 31,
   "metadata": {
    "collapsed": false
   },
   "outputs": [
    {
     "data": {
      "text/plain": [
       "{'TSHALLOV': 30000.0}"
      ]
     },
     "execution_count": 31,
     "metadata": {},
     "output_type": "execute_result"
    }
   ],
   "source": [
    "input_values = {}\n",
    "for var in input_variables:\n",
    "    name = var['name']\n",
    "    alias = var['alias']\n",
    "    \n",
    "    if alias in alias_values:\n",
    "        input_values[name] = alias_values[alias]\n",
    "        \n",
    "input_values"
   ]
  },
  {
   "cell_type": "code",
   "execution_count": 32,
   "metadata": {
    "collapsed": true
   },
   "outputs": [],
   "source": [
    "def get_value(name):\n",
    "    if name in formulas_light:\n",
    "        return computed_values[name]\n",
    "    \n",
    "    if name in constants_light:\n",
    "        return constants_light[name]\n",
    "        \n",
    "    if name in inputs_light:\n",
    "        if name in input_values:\n",
    "            return input_values[name]\n",
    "        return 0.\n",
    "        \n",
    "    if name in unknowns_light:\n",
    "        return 0.\n",
    "    \n",
    "    raise Exception('Unknown variable category.')\n"
   ]
  },
  {
   "cell_type": "code",
   "execution_count": 36,
   "metadata": {
    "collapsed": true
   },
   "outputs": [],
   "source": [
    "def compute(node):\n",
    "    nodetype = node['nodetype']\n",
    "\n",
    "    if nodetype == 'symbol':\n",
    "        name = node['name']\n",
    "        value = get_value(name)\n",
    "        return value \n",
    "        \n",
    "    if nodetype == 'float':\n",
    "        value = node['value']\n",
    "        return value\n",
    "    \n",
    "    if nodetype == 'call':\n",
    "        name = node['name']\n",
    "        args = [compute(child) for child in node['args']]\n",
    "        function = functions_mapping[name]\n",
    "        value = function(args)\n",
    "        return value\n",
    "        \n",
    "    raise ValueError('Unknown type : %s'%nodetype)"
   ]
  },
  {
   "cell_type": "code",
   "execution_count": 43,
   "metadata": {
    "collapsed": false
   },
   "outputs": [],
   "source": [
    "computed_values = {}\n",
    "\n",
    "for variable in computing_order:\n",
    "    formula = formulas_light[variable]\n",
    "    computed_values[variable] = compute(formula)\n"
   ]
  },
  {
   "cell_type": "code",
   "execution_count": 44,
   "metadata": {
    "collapsed": false
   },
   "outputs": [
    {
     "data": {
      "text/plain": [
       "2461.0"
      ]
     },
     "execution_count": 44,
     "metadata": {},
     "output_type": "execute_result"
    }
   ],
   "source": [
    "computed_values['IRN']"
   ]
  },
  {
   "cell_type": "code",
   "execution_count": null,
   "metadata": {
    "collapsed": true
   },
   "outputs": [],
   "source": []
  }
 ],
 "metadata": {
  "kernelspec": {
   "display_name": "Python 3",
   "language": "python",
   "name": "python3"
  },
  "language_info": {
   "codemirror_mode": {
    "name": "ipython",
    "version": 3
   },
   "file_extension": ".py",
   "mimetype": "text/x-python",
   "name": "python",
   "nbconvert_exporter": "python",
   "pygments_lexer": "ipython3",
   "version": "3.4.3"
  }
 },
 "nbformat": 4,
 "nbformat_minor": 0
}
