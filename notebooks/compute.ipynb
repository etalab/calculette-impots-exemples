{
 "cells": [
  {
   "cell_type": "code",
   "execution_count": 1,
   "metadata": {
    "collapsed": false
   },
   "outputs": [],
   "source": [
    "import json\n",
    "import collections\n",
    "import numpy as np"
   ]
  },
  {
   "cell_type": "code",
   "execution_count": 2,
   "metadata": {
    "collapsed": false
   },
   "outputs": [],
   "source": [
    "f = open('formulas_dict.json', 'r')\n",
    "formulas_dict = json.load(f)\n",
    "f.close()\n",
    "f = open('constants_dict.json', 'r')\n",
    "constants_dict = json.load(f)\n",
    "f.close()\n",
    "f = open('input_variables.json', 'r')\n",
    "input_variables = json.load(f)\n",
    "f.close()"
   ]
  },
  {
   "cell_type": "markdown",
   "metadata": {},
   "source": [
    "## Get dependencies and find a good computation order"
   ]
  },
  {
   "cell_type": "markdown",
   "metadata": {},
   "source": [
    "### Get dependecies"
   ]
  },
  {
   "cell_type": "code",
   "execution_count": 3,
   "metadata": {
    "collapsed": true
   },
   "outputs": [],
   "source": [
    "def get_children(node):\n",
    "    nodetype = node['nodetype']\n",
    "\n",
    "    if nodetype == 'symbol':\n",
    "        name = node['name']\n",
    "        return set([name])\n",
    "        \n",
    "    elif nodetype == 'float':\n",
    "        return set()\n",
    "    \n",
    "    elif nodetype == 'call':\n",
    "        args = node['args']\n",
    "        children = set()\n",
    "        for arg in args:\n",
    "            children = children | get_children(arg)\n",
    "\n",
    "        return children\n",
    "        \n",
    "    raise ValueError('Unknown type : %s'%nodetype)"
   ]
  },
  {
   "cell_type": "code",
   "execution_count": 4,
   "metadata": {
    "collapsed": false
   },
   "outputs": [],
   "source": [
    "children_dict = {}\n",
    "for name, formula in formulas_dict.items():\n",
    "    children_dict[name] = get_children(formula)"
   ]
  },
  {
   "cell_type": "code",
   "execution_count": 5,
   "metadata": {
    "collapsed": false,
    "scrolled": true
   },
   "outputs": [
    {
     "data": {
      "text/plain": [
       "{'AILMJV',\n",
       " 'NRCELTOT',\n",
       " 'NRILMIA',\n",
       " 'NRILMIB',\n",
       " 'NRILMIC',\n",
       " 'NRILMIH',\n",
       " 'NRILMIX',\n",
       " 'NRILMIY',\n",
       " 'NRILMIZ',\n",
       " 'NRILMJC',\n",
       " 'NRILMJI',\n",
       " 'NRILMJS',\n",
       " 'NRILMJW',\n",
       " 'NRILMJX',\n",
       " 'NRILMJY',\n",
       " 'NRILMPA',\n",
       " 'NRILMPB',\n",
       " 'NRILMPC',\n",
       " 'NRILMPD',\n",
       " 'NRILMPE',\n",
       " 'NRINVRED',\n",
       " 'NRLOGDOM',\n",
       " 'NRMEUBLE',\n",
       " 'NRPROREP',\n",
       " 'NRREDMEUB',\n",
       " 'NRREDREP',\n",
       " 'NRREPMEU',\n",
       " 'NRREPNPRO',\n",
       " 'NRRI2',\n",
       " 'RRI1'}"
      ]
     },
     "execution_count": 5,
     "metadata": {},
     "output_type": "execute_result"
    }
   ],
   "source": [
    "children_dict['NRILMJV']"
   ]
  },
  {
   "cell_type": "markdown",
   "metadata": {},
   "source": [
    "### Find dependencies without formula"
   ]
  },
  {
   "cell_type": "code",
   "execution_count": 6,
   "metadata": {
    "collapsed": true
   },
   "outputs": [],
   "source": [
    "input_list = []\n",
    "for e in input_variables:\n",
    "    input_list.append(e['alias'])\n",
    "    input_list.append(e['name'])\n",
    "    "
   ]
  },
  {
   "cell_type": "code",
   "execution_count": 7,
   "metadata": {
    "collapsed": false
   },
   "outputs": [],
   "source": [
    "unknown_variables = set()\n",
    "for k, v in children_dict.items():\n",
    "    for var in v:\n",
    "        if (var not in formulas_dict) and (var not in constants_dict) and (var not in input_list):\n",
    "            unknown_variables.add(var)"
   ]
  },
  {
   "cell_type": "code",
   "execution_count": 8,
   "metadata": {
    "collapsed": false
   },
   "outputs": [
    {
     "data": {
      "text/plain": [
       "1535"
      ]
     },
     "execution_count": 8,
     "metadata": {},
     "output_type": "execute_result"
    }
   ],
   "source": [
    "len(unknown_variables)"
   ]
  },
  {
   "cell_type": "markdown",
   "metadata": {},
   "source": [
    "### Parents"
   ]
  },
  {
   "cell_type": "code",
   "execution_count": 9,
   "metadata": {
    "collapsed": false
   },
   "outputs": [],
   "source": [
    "parents_dict = {}\n",
    "\n",
    "for k in children_dict:\n",
    "    parents_dict[k] = set()\n",
    "\n",
    "for parent, children in children_dict.items():\n",
    "    for child in children:\n",
    "        if child in children_dict:\n",
    "            parents_dict[child].add(parent)"
   ]
  },
  {
   "cell_type": "markdown",
   "metadata": {},
   "source": [
    "### Dependencies"
   ]
  },
  {
   "cell_type": "code",
   "execution_count": null,
   "metadata": {
    "collapsed": true
   },
   "outputs": [],
   "source": [
    "iinet_deps = []\n"
   ]
  },
  {
   "cell_type": "code",
   "execution_count": null,
   "metadata": {
    "collapsed": true
   },
   "outputs": [],
   "source": []
  },
  {
   "cell_type": "code",
   "execution_count": null,
   "metadata": {
    "collapsed": true
   },
   "outputs": [],
   "source": []
  },
  {
   "cell_type": "markdown",
   "metadata": {},
   "source": [
    "### Find cycles"
   ]
  },
  {
   "cell_type": "code",
   "execution_count": 16,
   "metadata": {
    "collapsed": true
   },
   "outputs": [],
   "source": [
    "index = {}\n",
    "reverse_index = []\n",
    "for i, k in enumerate(children_dict):\n",
    "    index[k] = i\n",
    "    reverse_index.append(k)"
   ]
  },
  {
   "cell_type": "code",
   "execution_count": 17,
   "metadata": {
    "collapsed": true
   },
   "outputs": [],
   "source": [
    "n = len(children_dict)\n",
    "adj = np.zeros((n, n), dtype=np.int8)"
   ]
  },
  {
   "cell_type": "code",
   "execution_count": 18,
   "metadata": {
    "collapsed": false
   },
   "outputs": [],
   "source": [
    "for parent, children in children_dict.items():\n",
    "    for child in children:\n",
    "        if child in children_dict:\n",
    "            adj[index[parent], index[child]] = 1"
   ]
  },
  {
   "cell_type": "code",
   "execution_count": null,
   "metadata": {
    "collapsed": false
   },
   "outputs": [],
   "source": [
    "current_power = 1\n",
    "while current_power <= n:\n",
    "    print(current_power)\n",
    "    adj = np.dot(adj, adj)\n",
    "    current_power *= 2"
   ]
  },
  {
   "cell_type": "code",
   "execution_count": 19,
   "metadata": {
    "collapsed": false
   },
   "outputs": [
    {
     "data": {
      "text/plain": [
       "19"
      ]
     },
     "execution_count": 19,
     "metadata": {},
     "output_type": "execute_result"
    }
   ],
   "source": [
    "np.diag(adj).sum()"
   ]
  },
  {
   "cell_type": "code",
   "execution_count": 21,
   "metadata": {
    "collapsed": false
   },
   "outputs": [
    {
     "data": {
      "text/plain": [
       "(array([  667,  3118,  3936,  5007,  5152,  5741,  6456,  6950,  7037,\n",
       "         8775,  9236,  9971, 10323, 10560, 11510, 11803, 13127, 13589, 13650]),)"
      ]
     },
     "execution_count": 21,
     "metadata": {},
     "output_type": "execute_result"
    }
   ],
   "source": [
    "np.where(np.diag(adj))"
   ]
  },
  {
   "cell_type": "code",
   "execution_count": 22,
   "metadata": {
    "collapsed": false
   },
   "outputs": [
    {
     "data": {
      "text/plain": [
       "'TISF4BASE'"
      ]
     },
     "execution_count": 22,
     "metadata": {},
     "output_type": "execute_result"
    }
   ],
   "source": [
    "reverse_index[667]"
   ]
  },
  {
   "cell_type": "code",
   "execution_count": 23,
   "metadata": {
    "collapsed": false
   },
   "outputs": [
    {
     "data": {
      "text/plain": [
       "{'args': [{'args': [{'args': [{'name': 'FLAG_RETARD', 'nodetype': 'symbol'}],\n",
       "     'name': 'positif',\n",
       "     'nodetype': 'call'},\n",
       "    {'args': [{'args': [{'name': 'ISFTARDIF_A', 'nodetype': 'symbol'},\n",
       "        {'args': [{'nodetype': 'float', 'value': 1.0},\n",
       "          {'args': [{'args': [{'name': 'FLAG_NBSTRTR', 'nodetype': 'symbol'}],\n",
       "             'name': 'positif',\n",
       "             'nodetype': 'call'}],\n",
       "           'name': '-',\n",
       "           'nodetype': 'call'}],\n",
       "         'name': '+',\n",
       "         'nodetype': 'call'}],\n",
       "       'name': '*',\n",
       "       'nodetype': 'call'},\n",
       "      {'args': [{'name': 'TISF4BASE', 'nodetype': 'symbol'},\n",
       "        {'args': [{'name': 'FLAG_NBSTRTR', 'nodetype': 'symbol'}],\n",
       "         'name': 'positif',\n",
       "         'nodetype': 'call'}],\n",
       "       'name': '*',\n",
       "       'nodetype': 'call'}],\n",
       "     'name': '+',\n",
       "     'nodetype': 'call'}],\n",
       "   'name': '*',\n",
       "   'nodetype': 'call'},\n",
       "  {'args': [{'args': [{'nodetype': 'float', 'value': 1.0},\n",
       "      {'args': [{'args': [{'name': 'FLAG_RETARD', 'nodetype': 'symbol'}],\n",
       "         'name': 'positif',\n",
       "         'nodetype': 'call'}],\n",
       "       'name': '-',\n",
       "       'nodetype': 'call'}],\n",
       "     'name': '+',\n",
       "     'nodetype': 'call'},\n",
       "    {'name': 'TISF4BASE', 'nodetype': 'symbol'}],\n",
       "   'name': '*',\n",
       "   'nodetype': 'call'},\n",
       "  {'nodetype': 'float', 'value': 0.0}],\n",
       " 'name': '+',\n",
       " 'nodetype': 'call'}"
      ]
     },
     "execution_count": 23,
     "metadata": {},
     "output_type": "execute_result"
    }
   ],
   "source": [
    "formulas_dict['TISF4BASE']"
   ]
  },
  {
   "cell_type": "code",
   "execution_count": null,
   "metadata": {
    "collapsed": true
   },
   "outputs": [],
   "source": []
  },
  {
   "cell_type": "code",
   "execution_count": null,
   "metadata": {
    "collapsed": true
   },
   "outputs": [],
   "source": []
  },
  {
   "cell_type": "markdown",
   "metadata": {},
   "source": [
    "### Find good computing order"
   ]
  },
  {
   "cell_type": "code",
   "execution_count": null,
   "metadata": {
    "collapsed": true
   },
   "outputs": [],
   "source": [
    "# doesn't work : too much recursion\n",
    "def find_order(node):\n",
    "    if node not in simple_dependencies_dict:\n",
    "        return\n",
    "        \n",
    "    deps = simple_dependencies_dict[node]\n",
    "    is_leaf = True\n",
    "    for dep in deps:\n",
    "        if dep not in computing_order:\n",
    "            find_order(dep)\n",
    "            \n",
    "    computing_order.append(node)\n",
    "            "
   ]
  },
  {
   "cell_type": "code",
   "execution_count": null,
   "metadata": {
    "collapsed": false
   },
   "outputs": [],
   "source": [
    "root = 'IINET'\n",
    "computing_order = []\n",
    "\n",
    "to_inspect = [root]\n",
    "while to_inspect:\n",
    "    node = to_inspect[-1]\n",
    "    is_leaf = True\n",
    "\n",
    "    if node in simple_dependencies_dict:\n",
    "        deps = simple_dependencies_dict[node]\n",
    "    \n",
    "        for dep in deps:\n",
    "            if dep not in computing_order:\n",
    "                is_leaf = False\n",
    "                if dep not in to_inspect:\n",
    "                    to_inspect.append(dep)\n",
    "            \n",
    "    if is_leaf:\n",
    "        computing_order.append(node)\n",
    "        to_inspect.pop()\n",
    "\n"
   ]
  },
  {
   "cell_type": "code",
   "execution_count": null,
   "metadata": {
    "collapsed": false
   },
   "outputs": [],
   "source": [
    "len(to_inspect)"
   ]
  },
  {
   "cell_type": "code",
   "execution_count": null,
   "metadata": {
    "collapsed": true
   },
   "outputs": [],
   "source": [
    "find_order(root)"
   ]
  },
  {
   "cell_type": "code",
   "execution_count": null,
   "metadata": {
    "collapsed": false
   },
   "outputs": [],
   "source": [
    "computing_order"
   ]
  },
  {
   "cell_type": "code",
   "execution_count": null,
   "metadata": {
    "collapsed": false
   },
   "outputs": [],
   "source": [
    "simple_dependencies_dict[root]"
   ]
  },
  {
   "cell_type": "markdown",
   "metadata": {},
   "source": [
    "## Compute"
   ]
  },
  {
   "cell_type": "code",
   "execution_count": null,
   "metadata": {
    "collapsed": true
   },
   "outputs": [],
   "source": [
    "def product(l):\n",
    "    accu = 1.\n",
    "    for e in l:\n",
    "        accu *= e\n",
    "    return accu\n",
    "\n",
    "def boolean_or(l):\n",
    "    for e in l:\n",
    "        if l:\n",
    "            return 1.\n",
    "    return 0.\n",
    "\n",
    "def boolean_et(l):\n",
    "    for e in l:\n",
    "        if not l:\n",
    "            return 0.\n",
    "    return 1.\n",
    "\n",
    "functions_mapping = {\n",
    "    '+': sum,\n",
    "    '*': product,\n",
    "    '-': (lambda x: -x[0]),\n",
    "    'positif': (lambda x: float(x[0]>0)),\n",
    "    'positif_ou_nul': (lambda x: float(x[0]>=0)),\n",
    "    'null': (lambda x: float(x[0]==0)),\n",
    "    'operator:>=': (lambda x: float(x[0]>=x[1])),\n",
    "    'operator:=': (lambda x: float(x[0]==x[1])),\n",
    "    'ternary': (lambda x: x[1] if x[0] else x[2]),\n",
    "    '/': (lambda x: x[0]/x[1] if x[1] else 0.),\n",
    "    'max': max,\n",
    "    'min': min,\n",
    "    'inf': (lambda x: math.floor(x[0])),\n",
    "    'arr': (lambda x: round(x[0])),\n",
    "    'abs': (lambda x: abs(x[0])),\n",
    "    'present': (lambda x: x[0] != 0.),\n",
    "    'boolean:ou': boolean_or,\n",
    "    'boolean:et': boolean_et,\n",
    "    'dans': (lambda x: 1. if (x[0] in x[1:]) else 0.)\n",
    "}\n"
   ]
  },
  {
   "cell_type": "code",
   "execution_count": null,
   "metadata": {
    "collapsed": true
   },
   "outputs": [],
   "source": [
    "def get_value(name):\n",
    "    if name not in known_values:\n",
    "        if name not in formulas_dict:\n",
    "            print('Variable %s not found !'%name)\n",
    "            known_values[name] = 0.\n",
    "        else:\n",
    "            formula = formulas_dict[name]\n",
    "            known_values[name] = compute(formula)\n",
    "            print('%d values known'%len(known_values))\n",
    "    return known_values[name]"
   ]
  },
  {
   "cell_type": "code",
   "execution_count": null,
   "metadata": {
    "collapsed": true
   },
   "outputs": [],
   "source": [
    "def compute(node):\n",
    "    nodetype = node['nodetype']\n",
    "\n",
    "    if nodetype == 'symbol':\n",
    "        name = node['name']\n",
    "        value = get_value(name)\n",
    "        return value \n",
    "        \n",
    "    elif nodetype == 'float':\n",
    "        value = node['value']\n",
    "        return value\n",
    "    \n",
    "    elif nodetype == 'call':\n",
    "        name = node['name']\n",
    "        args = [compute(child) for child in node['args']]\n",
    "        function = functions_mapping[name]\n",
    "        try:\n",
    "            value = function(args)\n",
    "        except TypeError:\n",
    "            print(args)\n",
    "            print(function)\n",
    "            raise TypeError()\n",
    "        return value\n",
    "        \n",
    "    raise ValueError('Unknown type : %s'%nodetype)"
   ]
  },
  {
   "cell_type": "code",
   "execution_count": null,
   "metadata": {
    "collapsed": true
   },
   "outputs": [],
   "source": [
    "saisie = {'TSHALLOV': 30000.}\n",
    "# http://www3.finances.gouv.fr/calcul_impot/2015/index.htm\n",
    "\n",
    "known_values = {}\n",
    "\n",
    "for c in constants:\n",
    "    name = c['name']\n",
    "    value = c['value']\n",
    "    known_values[name] = value\n",
    "\n",
    "for var in input_variables:\n",
    "    name = var['name']\n",
    "    alias = var['alias']\n",
    "    \n",
    "    known_alias = (alias in saisie)\n",
    "    known_name = (name in saisie)\n",
    "    \n",
    "    if known_alias and known_name:\n",
    "        raise ValueError('Variable defined twice.')\n",
    "    if known_alias:\n",
    "        value = saisie[alias]\n",
    "        known_values[alias] = value\n",
    "    else:\n",
    "        known_values[alias] = 0.\n",
    "        \n",
    "    if known_name:\n",
    "        value = saisie[name]\n",
    "        known_values[name] = value\n",
    "    else:\n",
    "        known_values[name] = 0.\n"
   ]
  },
  {
   "cell_type": "code",
   "execution_count": null,
   "metadata": {
    "collapsed": true
   },
   "outputs": [],
   "source": []
  },
  {
   "cell_type": "code",
   "execution_count": null,
   "metadata": {
    "collapsed": true
   },
   "outputs": [],
   "source": []
  }
 ],
 "metadata": {
  "kernelspec": {
   "display_name": "Python 3",
   "language": "python",
   "name": "python3"
  },
  "language_info": {
   "codemirror_mode": {
    "name": "ipython",
    "version": 3
   },
   "file_extension": ".py",
   "mimetype": "text/x-python",
   "name": "python",
   "nbconvert_exporter": "python",
   "pygments_lexer": "ipython3",
   "version": "3.4.3"
  }
 },
 "nbformat": 4,
 "nbformat_minor": 0
}
