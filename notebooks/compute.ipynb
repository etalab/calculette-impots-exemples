{
 "cells": [
  {
   "cell_type": "code",
   "execution_count": null,
   "metadata": {
    "collapsed": true
   },
   "outputs": [],
   "source": [
    "def product(l):\n",
    "    accu = 1.\n",
    "    for e in l:\n",
    "        accu *= e\n",
    "    return accu\n",
    "\n",
    "def boolean_or(l):\n",
    "    for e in l:\n",
    "        if l:\n",
    "            return 1.\n",
    "    return 0.\n",
    "\n",
    "def boolean_et(l):\n",
    "    for e in l:\n",
    "        if not l:\n",
    "            return 0.\n",
    "    return 1.\n",
    "\n",
    "functions_mapping = {\n",
    "    '+': sum,\n",
    "    '*': product,\n",
    "    '-': (lambda x: -x[0]),\n",
    "    'positif': (lambda x: float(x[0]>0)),\n",
    "    'positif_ou_nul': (lambda x: float(x[0]>=0)),\n",
    "    'null': (lambda x: float(x[0]==0)),\n",
    "    'operator:>=': (lambda x: float(x[0]>=x[1])),\n",
    "    'operator:=': (lambda x: float(x[0]==x[1])),\n",
    "    'ternary': (lambda x: x[1] if x[0] else x[2]),\n",
    "    '/': (lambda x: x[0]/x[1] if x[1] else 0.),\n",
    "    'max': max,\n",
    "    'min': min,\n",
    "    'inf': (lambda x: math.floor(x[0])),\n",
    "    'arr': (lambda x: round(x[0])),\n",
    "    'abs': (lambda x: abs(x[0])),\n",
    "    'present': (lambda x: x[0] != 0.),\n",
    "    'boolean:ou': boolean_or,\n",
    "    'boolean:et': boolean_et,\n",
    "    'dans': (lambda x: 1. if (x[0] in x[1:]) else 0.)\n",
    "}\n"
   ]
  },
  {
   "cell_type": "code",
   "execution_count": null,
   "metadata": {
    "collapsed": true
   },
   "outputs": [],
   "source": [
    "def get_value(name):\n",
    "    if name not in known_values:\n",
    "        if name not in formulas_dict:\n",
    "            print('Variable %s not found !'%name)\n",
    "            known_values[name] = 0.\n",
    "        else:\n",
    "            formula = formulas_dict[name]\n",
    "            known_values[name] = compute(formula)\n",
    "            print('%d values known'%len(known_values))\n",
    "    return known_values[name]"
   ]
  },
  {
   "cell_type": "code",
   "execution_count": null,
   "metadata": {
    "collapsed": true
   },
   "outputs": [],
   "source": [
    "def compute(node):\n",
    "    nodetype = node['nodetype']\n",
    "\n",
    "    if nodetype == 'symbol':\n",
    "        name = node['name']\n",
    "        value = get_value(name)\n",
    "        return value \n",
    "        \n",
    "    elif nodetype == 'float':\n",
    "        value = node['value']\n",
    "        return value\n",
    "    \n",
    "    elif nodetype == 'call':\n",
    "        name = node['name']\n",
    "        args = [compute(child) for child in node['args']]\n",
    "        function = functions_mapping[name]\n",
    "        try:\n",
    "            value = function(args)\n",
    "        except TypeError:\n",
    "            print(args)\n",
    "            print(function)\n",
    "            raise TypeError()\n",
    "        return value\n",
    "        \n",
    "    raise ValueError('Unknown type : %s'%nodetype)"
   ]
  },
  {
   "cell_type": "code",
   "execution_count": null,
   "metadata": {
    "collapsed": true
   },
   "outputs": [],
   "source": [
    "saisie = {'TSHALLOV': 30000.}\n",
    "# http://www3.finances.gouv.fr/calcul_impot/2015/index.htm\n",
    "\n",
    "known_values = {}\n",
    "\n",
    "for c in constants:\n",
    "    name = c['name']\n",
    "    value = c['value']\n",
    "    known_values[name] = value\n",
    "\n",
    "for var in input_variables:\n",
    "    name = var['name']\n",
    "    alias = var['alias']\n",
    "    \n",
    "    known_alias = (alias in saisie)\n",
    "    known_name = (name in saisie)\n",
    "    \n",
    "    if known_alias and known_name:\n",
    "        raise ValueError('Variable defined twice.')\n",
    "    if known_alias:\n",
    "        value = saisie[alias]\n",
    "        known_values[alias] = value\n",
    "    else:\n",
    "        known_values[alias] = 0.\n",
    "        \n",
    "    if known_name:\n",
    "        value = saisie[name]\n",
    "        known_values[name] = value\n",
    "    else:\n",
    "        known_values[name] = 0.\n"
   ]
  },
  {
   "cell_type": "code",
   "execution_count": null,
   "metadata": {
    "collapsed": true
   },
   "outputs": [],
   "source": []
  }
 ],
 "metadata": {
  "kernelspec": {
   "display_name": "Python 3",
   "language": "python",
   "name": "python3"
  },
  "language_info": {
   "codemirror_mode": {
    "name": "ipython",
    "version": 3
   },
   "file_extension": ".py",
   "mimetype": "text/x-python",
   "name": "python",
   "nbconvert_exporter": "python",
   "pygments_lexer": "ipython3",
   "version": "3.4.3"
  }
 },
 "nbformat": 4,
 "nbformat_minor": 0
}
