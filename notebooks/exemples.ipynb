{
 "cells": [
  {
   "cell_type": "code",
   "execution_count": 1,
   "metadata": {},
   "outputs": [],
   "source": [
    "import numpy as np\n",
    "from matplotlib import pyplot as plt\n",
    "\n",
    "import calculette_impots_exemples\n",
    "\n",
    "%matplotlib inline\n"
   ]
  },
  {
   "cell_type": "markdown",
   "metadata": {},
   "source": [
    "## Scalar computing"
   ]
  },
  {
   "cell_type": "code",
   "execution_count": 2,
   "metadata": {},
   "outputs": [],
   "source": [
    "scalar_engine = calculette_impots_exemples.ScalarComputationEngine('sources2014m_2_15')"
   ]
  },
  {
   "cell_type": "code",
   "execution_count": 3,
   "metadata": {
    "collapsed": true
   },
   "outputs": [],
   "source": [
    "alias_values = {'1AJ': 30000.}"
   ]
  },
  {
   "cell_type": "code",
   "execution_count": 4,
   "metadata": {},
   "outputs": [
    {
     "data": {
      "text/plain": [
       "{'IINET': 4430.0}"
      ]
     },
     "execution_count": 4,
     "metadata": {},
     "output_type": "execute_result"
    }
   ],
   "source": [
    "scalar_engine.compute(alias_values, ['IINET'])"
   ]
  },
  {
   "cell_type": "code",
   "execution_count": null,
   "metadata": {},
   "outputs": [],
   "source": [
    "%timeit scalar_engine.compute(alias_values, ['IINET'])"
   ]
  },
  {
   "cell_type": "markdown",
   "metadata": {},
   "source": [
    "## Vector computing"
   ]
  },
  {
   "cell_type": "code",
   "execution_count": 5,
   "metadata": {},
   "outputs": [],
   "source": [
    "vector_engine = calculette_impots_exemples.VectorComputationEngine('sources2014m_2_15', 100)"
   ]
  },
  {
   "cell_type": "code",
   "execution_count": 6,
   "metadata": {},
   "outputs": [],
   "source": [
    "alias_values = {'1AJ': np.linspace(0, 99000., 100)}"
   ]
  },
  {
   "cell_type": "code",
   "execution_count": 7,
   "metadata": {},
   "outputs": [
    {
     "data": {
      "text/plain": [
       "{'IINET': array([     0.,      0.,      0.,      0.,      0.,      0.,      0.,\n",
       "             0.,      0.,      0.,      0.,      0.,      0.,      0.,\n",
       "             0.,      0.,    329.,    783.,   1237.,   1690.,   2093.,\n",
       "          2320.,   2547.,   2774.,   3001.,   3227.,   3454.,   3681.,\n",
       "          3908.,   4135.,   4430.,   4916.,   5402.,   5888.,   6374.,\n",
       "          6860.,   7346.,   7832.,   8318.,   8804.,   9290.,   9776.,\n",
       "         10262.,  10748.,  11234.,  11720.,  12206.,  12692.,  13178.,\n",
       "         13664.,  14150.,  14636.,  15122.,  15608.,  16094.,  16580.,\n",
       "         17066.,  17552.,  18038.,  18524.,  19010.,  19496.,  19982.,\n",
       "         20468.,  20954.,  21440.,  21926.,  22412.,  22898.,  23384.,\n",
       "         23870.,  24356.,  24842.,  25328.,  25814.,  26300.,  26786.,\n",
       "         27272.,  27758.,  28244.,  28778.,  29443.,  30107.,  30771.,\n",
       "         31435.,  32099.,  32764.,  33428.,  34092.,  34756.,  35420.,\n",
       "         36085.,  36749.,  37413.,  38077.,  38741.,  39406.,  40070.,\n",
       "         40734.,  41398.])}"
      ]
     },
     "execution_count": 7,
     "metadata": {},
     "output_type": "execute_result"
    }
   ],
   "source": [
    "results = vector_engine.compute(alias_values, ['IINET'])\n",
    "results"
   ]
  },
  {
   "cell_type": "code",
   "execution_count": null,
   "metadata": {},
   "outputs": [],
   "source": [
    "%timeit vector_engine.compute(alias_values, ['IINET'])"
   ]
  },
  {
   "cell_type": "code",
   "execution_count": null,
   "metadata": {},
   "outputs": [],
   "source": [
    "plt.plot(alias_values['1AJ'], results['IINET'])"
   ]
  },
  {
   "cell_type": "markdown",
   "metadata": {},
   "source": [
    "## GPU Computing"
   ]
  },
  {
   "cell_type": "code",
   "execution_count": 8,
   "metadata": {},
   "outputs": [],
   "source": [
    "gpu_engine = calculette_impots_exemples.GPUComputationEngine('sources2014m_2_15', 100)"
   ]
  },
  {
   "cell_type": "code",
   "execution_count": 9,
   "metadata": {},
   "outputs": [
    {
     "data": {
      "text/plain": [
       "array([     0.,      0.,      0.,      0.,      0.,      0.,      0.,\n",
       "            0.,      0.,      0.,      0.,      0.,      0.,      0.,\n",
       "            0.,      0.,    329.,    783.,   1237.,   1690.,   2093.,\n",
       "         2320.,   2547.,   2774.,   3001.,   3227.,   3454.,   3681.,\n",
       "         3908.,   4135.,   4430.,   4916.,   5402.,   5888.,   6374.,\n",
       "         6860.,   7346.,   7832.,   8318.,   8804.,   9290.,   9776.,\n",
       "        10262.,  10748.,  11234.,  11720.,  12206.,  12692.,  13178.,\n",
       "        13664.,  14150.,  14636.,  15122.,  15608.,  16094.,  16580.,\n",
       "        17066.,  17552.,  18038.,  18524.,  19010.,  19496.,  19982.,\n",
       "        20468.,  20954.,  21440.,  21926.,  22412.,  22898.,  23384.,\n",
       "        23870.,  24356.,  24842.,  25328.,  25814.,  26300.,  26786.,\n",
       "        27272.,  27758.,  28244.,  28778.,  29443.,  30107.,  30771.,\n",
       "        31435.,  32099.,  32764.,  33428.,  34092.,  34756.,  35420.,\n",
       "        36085.,  36749.,  37413.,  38077.,  38741.,  39406.,  40070.,\n",
       "        40734.,  41398.])"
      ]
     },
     "execution_count": 9,
     "metadata": {},
     "output_type": "execute_result"
    }
   ],
   "source": [
    "results = gpu_engine.compute(alias_values, 'IINET')\n",
    "results"
   ]
  },
  {
   "cell_type": "code",
   "execution_count": null,
   "metadata": {
    "collapsed": true
   },
   "outputs": [],
   "source": []
  }
 ],
 "metadata": {
  "kernelspec": {
   "display_name": "Python 3",
   "language": "python",
   "name": "python3"
  },
  "language_info": {
   "codemirror_mode": {
    "name": "ipython",
    "version": 3
   },
   "file_extension": ".py",
   "mimetype": "text/x-python",
   "name": "python",
   "nbconvert_exporter": "python",
   "pygments_lexer": "ipython3",
   "version": "3.5.2"
  },
  "shadox": {
   "hideInput": false,
   "noobMode": false,
   "readOnly": false
  }
 },
 "nbformat": 4,
 "nbformat_minor": 1
}
