{
 "cells": [
  {
   "cell_type": "code",
   "execution_count": 1,
   "metadata": {
    "collapsed": true
   },
   "outputs": [],
   "source": [
    "import numpy as np\n",
    "from matplotlib import pyplot as plt\n",
    "\n",
    "import calculette_impots_exemples\n",
    "\n",
    "%matplotlib inline\n"
   ]
  },
  {
   "cell_type": "markdown",
   "metadata": {},
   "source": [
    "## Scalar computing"
   ]
  },
  {
   "cell_type": "code",
   "execution_count": 2,
   "metadata": {
    "collapsed": true
   },
   "outputs": [],
   "source": [
    "scalar_engine = calculette_impots_exemples.ScalarComputationEngine('sourcesm2015m_4_6')"
   ]
  },
  {
   "cell_type": "code",
   "execution_count": 3,
   "metadata": {
    "collapsed": true
   },
   "outputs": [],
   "source": [
    "alias_values = {'1AJ': 30000.}"
   ]
  },
  {
   "cell_type": "code",
   "execution_count": 4,
   "metadata": {},
   "outputs": [
    {
     "data": {
      "text/plain": [
       "{'IRN': 2455.0}"
      ]
     },
     "execution_count": 4,
     "metadata": {},
     "output_type": "execute_result"
    }
   ],
   "source": [
    "scalar_engine.compute(alias_values, ['IRN'])"
   ]
  },
  {
   "cell_type": "code",
   "execution_count": 5,
   "metadata": {},
   "outputs": [
    {
     "name": "stdout",
     "output_type": "stream",
     "text": [
      "202 ms ± 5.09 ms per loop (mean ± std. dev. of 7 runs, 1 loop each)\n"
     ]
    }
   ],
   "source": [
    "%timeit scalar_engine.compute(alias_values, ['IINET'])"
   ]
  },
  {
   "cell_type": "markdown",
   "metadata": {},
   "source": [
    "## Vector computing"
   ]
  },
  {
   "cell_type": "code",
   "execution_count": 6,
   "metadata": {
    "collapsed": true
   },
   "outputs": [],
   "source": [
    "vector_engine = calculette_impots_exemples.VectorComputationEngine('sourcesm2015m_4_6', 100)"
   ]
  },
  {
   "cell_type": "code",
   "execution_count": 7,
   "metadata": {
    "collapsed": true
   },
   "outputs": [],
   "source": [
    "alias_values = {'1AJ': np.linspace(0, 99000., 100)}"
   ]
  },
  {
   "cell_type": "code",
   "execution_count": 8,
   "metadata": {},
   "outputs": [
    {
     "data": {
      "text/plain": [
       "{'IRN': array([     0.,      0.,      0.,      0.,      0.,      0.,      0.,\n",
       "             0.,      0.,      0.,      0.,      0.,      0.,      0.,\n",
       "             0.,      0.,      0.,    207.,    428.,    648.,    868.,\n",
       "          1089.,   1310.,   1530.,   1666.,   1792.,   1918.,   2044.,\n",
       "          2170.,   2296.,   2455.,   2725.,   2995.,   3265.,   3535.,\n",
       "          3805.,   4075.,   4345.,   4615.,   4885.,   5155.,   5425.,\n",
       "          5695.,   5965.,   6235.,   6505.,   6775.,   7045.,   7315.,\n",
       "          7585.,   7855.,   8125.,   8395.,   8665.,   8935.,   9205.,\n",
       "          9475.,   9745.,  10015.,  10285.,  10555.,  10825.,  11095.,\n",
       "         11365.,  11635.,  11905.,  12175.,  12445.,  12715.,  12985.,\n",
       "         13255.,  13525.,  13795.,  14065.,  14335.,  14605.,  14875.,\n",
       "         15145.,  15415.,  15685.,  15975.,  16344.,  16713.,  17082.,\n",
       "         17451.,  17820.,  18189.,  18558.,  18927.,  19296.,  19665.,\n",
       "         20034.,  20403.,  20772.,  21141.,  21510.,  21879.,  22248.,\n",
       "         22617.,  22986.])}"
      ]
     },
     "execution_count": 8,
     "metadata": {},
     "output_type": "execute_result"
    }
   ],
   "source": [
    "results = vector_engine.compute(alias_values, ['IRN'])\n",
    "results"
   ]
  },
  {
   "cell_type": "code",
   "execution_count": 9,
   "metadata": {},
   "outputs": [
    {
     "name": "stdout",
     "output_type": "stream",
     "text": [
      "439 ms ± 3.5 ms per loop (mean ± std. dev. of 7 runs, 1 loop each)\n"
     ]
    }
   ],
   "source": [
    "%timeit vector_engine.compute(alias_values, ['IRN'])"
   ]
  },
  {
   "cell_type": "code",
   "execution_count": 10,
   "metadata": {},
   "outputs": [
    {
     "data": {
      "text/plain": [
       "[<matplotlib.lines.Line2D at 0x7f733e02e518>]"
      ]
     },
     "execution_count": 10,
     "metadata": {},
     "output_type": "execute_result"
    },
    {
     "data": {
      "image/png": "[encoded data removed]",
      "text/plain": [
       "<matplotlib.figure.Figure at 0x7f733e064a20>"
      ]
     },
     "metadata": {},
     "output_type": "display_data"
    }
   ],
   "source": [
    "plt.plot(alias_values['1AJ'], results['IRN'])"
   ]
  },
  {
   "cell_type": "markdown",
   "metadata": {},
   "source": [
    "## GPU Computing"
   ]
  },
  {
   "cell_type": "code",
   "execution_count": 11,
   "metadata": {
    "collapsed": true
   },
   "outputs": [],
   "source": [
    "gpu_engine = calculette_impots_exemples.GPUComputationEngine('sourcesm2015m_4_6', 100)"
   ]
  },
  {
   "cell_type": "code",
   "execution_count": 12,
   "metadata": {},
   "outputs": [
    {
     "data": {
      "text/plain": [
       "array([     0.,      0.,      0.,      0.,      0.,      0.,      0.,\n",
       "            0.,      0.,      0.,      0.,      0.,      0.,      0.,\n",
       "            0.,      0.,      0.,    373.,    770.,   1166.,   1562.,\n",
       "         1960.,   2358.,   2754.,   2999.,   3226.,   3452.,   3679.,\n",
       "         3906.,   4133.,   4419.,   4905.,   5391.,   5877.,   6363.,\n",
       "         6849.,   7335.,   7821.,   8307.,   8793.,   9279.,   9765.,\n",
       "        10251.,  10737.,  11223.,  11709.,  12195.,  12681.,  13167.,\n",
       "        13653.,  14139.,  14625.,  15111.,  15597.,  16083.,  16569.,\n",
       "        17055.,  17541.,  18027.,  18513.,  18999.,  19485.,  19971.,\n",
       "        20457.,  20943.,  21429.,  21915.,  22401.,  22887.,  23373.,\n",
       "        23859.,  24345.,  24831.,  25317.,  25803.,  26289.,  26775.,\n",
       "        27261.,  27747.,  28233.,  28755.,  29419.,  30083.,  30748.,\n",
       "        31412.,  32076.,  32740.,  33404.,  34069.,  34733.,  35397.,\n",
       "        36061.,  36725.,  37390.,  38054.,  38718.,  39382.,  40046.,\n",
       "        40711.,  41375.])"
      ]
     },
     "execution_count": 12,
     "metadata": {},
     "output_type": "execute_result"
    }
   ],
   "source": [
    "results = gpu_engine.compute(alias_values, 'IINET')\n",
    "results"
   ]
  },
  {
   "cell_type": "code",
   "execution_count": null,
   "metadata": {
    "collapsed": true
   },
   "outputs": [],
   "source": []
  }
 ],
 "metadata": {
  "kernelspec": {
   "display_name": "Python 3",
   "language": "python",
   "name": "python3"
  },
  "language_info": {
   "codemirror_mode": {
    "name": "ipython",
    "version": 3
   },
   "file_extension": ".py",
   "mimetype": "text/x-python",
   "name": "python",
   "nbconvert_exporter": "python",
   "pygments_lexer": "ipython3",
   "version": "3.5.2"
  },
  "shadox": {
   "hideInput": false,
   "noobMode": false,
   "readOnly": false
  }
 },
 "nbformat": 4,
 "nbformat_minor": 1
}
