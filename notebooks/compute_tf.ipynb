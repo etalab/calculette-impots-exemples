{
 "cells": [
  {
   "cell_type": "code",
   "execution_count": 1,
   "metadata": {
    "collapsed": true
   },
   "outputs": [],
   "source": [
    "import json\n",
    "import numpy as np\n",
    "import tensorflow as tf"
   ]
  },
  {
   "cell_type": "code",
   "execution_count": 2,
   "metadata": {
    "collapsed": true
   },
   "outputs": [],
   "source": [
    "n_batch = 10"
   ]
  },
  {
   "cell_type": "markdown",
   "metadata": {},
   "source": [
    "## Load"
   ]
  },
  {
   "cell_type": "code",
   "execution_count": 3,
   "metadata": {
    "collapsed": true
   },
   "outputs": [],
   "source": [
    "with open('../json/computing_order.json', 'r') as f:\n",
    "    computing_order = json.load(f)\n",
    "\n",
    "with open('../json/formulas_light.json', 'r') as f:\n",
    "    formulas_light = json.load(f)\n",
    "\n",
    "with open('../json/constants_light.json', 'r') as f:\n",
    "    constants_light = json.load(f)\n",
    "\n",
    "with open('../json/inputs_light.json', 'r') as f:\n",
    "    inputs_light = json.load(f)\n",
    "\n",
    "with open('../json/unknowns_light.json', 'r') as f:\n",
    "    unknowns_light = json.load(f)\n",
    "\n",
    "with open('../json/input_variables.json', 'r') as f:\n",
    "    input_variables = json.load(f)\n"
   ]
  },
  {
   "cell_type": "markdown",
   "metadata": {},
   "source": [
    "## Index and reverse index for formulas, constants and input variables"
   ]
  },
  {
   "cell_type": "code",
   "execution_count": 4,
   "metadata": {
    "collapsed": true
   },
   "outputs": [],
   "source": [
    "n_formulas = len(computing_order)\n",
    "reverse_index_formulas = computing_order\n",
    "index_formulas = {\n",
    "    v: i\n",
    "    for i, v in enumerate(reverse_index_formulas)\n",
    "}"
   ]
  },
  {
   "cell_type": "code",
   "execution_count": 5,
   "metadata": {
    "collapsed": false
   },
   "outputs": [],
   "source": [
    "n_inputs = len(inputs_light)\n",
    "reverse_index_inputs = inputs_light\n",
    "index_inputs = {\n",
    "    v: i\n",
    "    for i, v in enumerate(reverse_index_inputs)\n",
    "}"
   ]
  },
  {
   "cell_type": "markdown",
   "metadata": {},
   "source": [
    "## Create constants"
   ]
  },
  {
   "cell_type": "code",
   "execution_count": 6,
   "metadata": {
    "collapsed": false
   },
   "outputs": [],
   "source": [
    "tf_constant_zero = tf.constant(np.zeros(n_batch), dtype=tf.float64)\n",
    "tf_constant_one = tf.constant(np.ones(n_batch), dtype=tf.float64)\n",
    "tf_constant_false = tf.constant(np.zeros(n_batch, dtype=np.bool))\n",
    "tf_constant_true = tf.constant(np.ones(n_batch, dtype=np.bool))"
   ]
  },
  {
   "cell_type": "markdown",
   "metadata": {},
   "source": [
    "## Create input placeholder"
   ]
  },
  {
   "cell_type": "code",
   "execution_count": 7,
   "metadata": {
    "collapsed": true
   },
   "outputs": [],
   "source": [
    "tf_inputs = tf.placeholder(tf.float64, shape=(n_batch, n_inputs))"
   ]
  },
  {
   "cell_type": "markdown",
   "metadata": {},
   "source": [
    "## Define functions"
   ]
  },
  {
   "cell_type": "code",
   "execution_count": 8,
   "metadata": {
    "collapsed": true
   },
   "outputs": [],
   "source": [
    "def produit(l):\n",
    "    accu = tf_constant_one\n",
    "    for i in range(len(l)):\n",
    "        accu = tf.mul(accu, l[i])\n",
    "    return accu\n",
    "\n",
    "def dans(l):\n",
    "    accu = tf_constant_false\n",
    "    for i in range(1, len(l)):\n",
    "        tmp = tf.equal(l[0], l[1])\n",
    "        accu = tf.logical_or(accu, tmp)\n",
    "    return tf.cast(accu, tf.float64)\n",
    "\n",
    "def boolean_or(l):\n",
    "    accu = tf_constant_false\n",
    "    for i in range(len(l)):\n",
    "        tmp = tf.cast(l[i], dtype=tf.bool)\n",
    "        accu = tf.logical_or(accu, tmp)\n",
    "    return tf.cast(accu, dtype=tf.float64)\n",
    "\n",
    "def boolean_et(l):\n",
    "    accu = tf_constant_true\n",
    "    for i in range(len(l)):\n",
    "        tmp = tf.cast(l[i], dtype=tf.bool)\n",
    "        accu = tf.logical_and(accu, tmp)\n",
    "    return tf.cast(accu, dtype=tf.float64)\n",
    "\n",
    "def plus(l):\n",
    "    return tf.add_n(l)\n",
    "\n",
    "def moins(l):\n",
    "    return tf.neg(l[0])\n",
    "\n",
    "def positif(l):\n",
    "    tmp = tf.greater(l[0], tf_constant_zero)\n",
    "    return tf.cast(tmp, dtype=tf.float64)\n",
    "\n",
    "def positif_ou_nul(l):\n",
    "    tmp = tf.greater_equal(l[0], tf_constant_zero)\n",
    "    return tf.cast(tmp, dtype=tf.float64)\n",
    "\n",
    "def nul(l):\n",
    "    tmp = tf.cast(l[0], dtype=tf.bool)\n",
    "    tmp = tf.logical_not(tmp)\n",
    "    return tf.cast(tmp, dtype=tf.float64)\n",
    "\n",
    "def non_nul(l):\n",
    "    tmp = tf.cast(l[0], dtype=tf.bool)\n",
    "    return tf.cast(tmp, dtype=tf.float64)\n",
    "\n",
    "def superieur_ou_egal(l):\n",
    "    tmp = tf.greater_equal(l[0], l[1])\n",
    "    return tf.cast(tmp, dtype=tf.float64)\n",
    "\n",
    "def superieur(l):\n",
    "    tmp = tf.greater(l[0], l[1])\n",
    "    return tf.cast(tmp, dtype=tf.float64)\n",
    "\n",
    "def inferieur(l):\n",
    "    tmp = tf.greater(l[1], l[0])\n",
    "    return tf.cast(tmp, dtype=tf.float64)\n",
    "\n",
    "def egal(l):\n",
    "    tmp = tf.equal(l[0], l[1])\n",
    "    return tf.cast(tmp, dtype=tf.float64)\n",
    "\n",
    "def ternaire(l):\n",
    "    condition = tf.cast(l[0], dtype=tf.bool)\n",
    "    return tf.select(condition, l[1], l[2])\n",
    "\n",
    "def si(l):\n",
    "    condition = tf.cast(l[0], dtype=tf.bool)\n",
    "    return tf.select(condition, l[1], tf_constant_zero)\n",
    "\n",
    "def inverse(l):\n",
    "    inv = tf.inv(l[0])\n",
    "    est_non_nul = tf.cast(l[0], dtype=bool)\n",
    "    return tf.select(est_non_nul, inv, tf_constant_zero)\n",
    "\n",
    "def maximum(l):\n",
    "    accu = l[0]\n",
    "    for i in range(1, len(l)):\n",
    "        accu = tf.maximum(accu, l[i])\n",
    "    return accu\n",
    "\n",
    "def minimum(l):\n",
    "    accu = l[0]\n",
    "    for i in range(1, len(l)):\n",
    "        accu = tf.minimum(accu, l[i])\n",
    "    return accu\n",
    "\n",
    "def plancher(l):\n",
    "    return tf.floor(l[0])\n",
    "\n",
    "def arrondi(l):\n",
    "    return tf.round(l[0])\n",
    "\n",
    "def absolue(l):\n",
    "    return np.abs(l[0])\n",
    "\n",
    "\n",
    "functions_mapping = {\n",
    "    '+': plus,\n",
    "    '*': produit,\n",
    "    '-': moins,\n",
    "    'unary:-': moins,\n",
    "    'positif': positif,\n",
    "    'positif_ou_nul': positif_ou_nul,\n",
    "    'null': nul,\n",
    "    'operator:>=': superieur_ou_egal,\n",
    "    'operator:>': superieur,\n",
    "    'operator:<': inferieur,\n",
    "    'operator:=': egal,\n",
    "    'ternary': ternaire,\n",
    "    'si': si,\n",
    "    'inverse': inverse,\n",
    "    'max': maximum,\n",
    "    'min': minimum,\n",
    "    'inf': plancher,\n",
    "    'arr': arrondi,\n",
    "    'abs': absolue,\n",
    "    'present': non_nul,\n",
    "    'boolean:ou': boolean_or,\n",
    "    'boolean:et': boolean_et,\n",
    "    'dans': dans\n",
    "}\n"
   ]
  },
  {
   "cell_type": "markdown",
   "metadata": {},
   "source": [
    "## Build graph"
   ]
  },
  {
   "cell_type": "code",
   "execution_count": 9,
   "metadata": {
    "collapsed": false
   },
   "outputs": [],
   "source": [
    "var = computing_order[1]"
   ]
  },
  {
   "cell_type": "code",
   "execution_count": 10,
   "metadata": {
    "collapsed": false
   },
   "outputs": [
    {
     "data": {
      "text/plain": [
       "{'args': [{'name': 'V_0CF', 'nodetype': 'symbol'},\n",
       "  {'name': 'V_0DJ', 'nodetype': 'symbol'}],\n",
       " 'name': '+',\n",
       " 'nodetype': 'call'}"
      ]
     },
     "execution_count": 10,
     "metadata": {},
     "output_type": "execute_result"
    }
   ],
   "source": [
    "formulas_light[var]"
   ]
  },
  {
   "cell_type": "code",
   "execution_count": 11,
   "metadata": {
    "collapsed": false
   },
   "outputs": [],
   "source": [
    "def build_graph(node):\n",
    "    if node['nodetype'] == 'float':\n",
    "        scalar_constant = tf.constant(node['value'], dtype=tf.float64)\n",
    "        vector_constant = tf.mul(tf_constant_one, scalar_constant)\n",
    "        return vector_constant\n",
    "    \n",
    "    if node['nodetype'] == 'symbol':\n",
    "        name = node['name']\n",
    "        if name in formulas_light:\n",
    "            return tf_formulas[name]\n",
    "\n",
    "        if name in constants_light:\n",
    "            value = constants_light[name]\n",
    "            return build_graph({'nodetype': 'float', 'value': value})\n",
    "\n",
    "        if name in inputs_light:\n",
    "            index = index_inputs[name]\n",
    "            begin = [0, index]\n",
    "            size = [n_batch, 1]\n",
    "            tmp = tf.slice(tf_inputs, begin, size)\n",
    "            return tf.reshape(tmp, [n_batch])\n",
    "\n",
    "        if name in unknowns_light:\n",
    "            return tf_constant_zero\n",
    "\n",
    "        raise Exception('Unknown variable category.')\n",
    "\n",
    "    if node['nodetype'] == 'call':\n",
    "        name = node['name']\n",
    "        args = [build_graph(child) for child in node['args']]\n",
    "        function = functions_mapping[name]\n",
    "        value = function(args)\n",
    "        return value\n",
    "\n",
    "    raise ValueError('Unknown type : %s'%nodetype)\n"
   ]
  },
  {
   "cell_type": "code",
   "execution_count": 12,
   "metadata": {
    "collapsed": false
   },
   "outputs": [],
   "source": [
    "tf_formulas = {}\n",
    "for var in computing_order:\n",
    "    tf_formulas[var] = build_graph(formulas_light[var])"
   ]
  },
  {
   "cell_type": "markdown",
   "metadata": {},
   "source": [
    "## Fetch (or generate) inputs"
   ]
  },
  {
   "cell_type": "code",
   "execution_count": 13,
   "metadata": {
    "collapsed": true
   },
   "outputs": [],
   "source": [
    "alias2name = {i['alias']: i['name'] for i in input_variables}\n",
    "\n",
    "alias = '1AJ'\n",
    "name = alias2name[alias]\n",
    "index = index_inputs[name]"
   ]
  },
  {
   "cell_type": "code",
   "execution_count": 14,
   "metadata": {
    "collapsed": false
   },
   "outputs": [],
   "source": [
    "inputs = np.zeros((n_batch, n_inputs))\n",
    "inputs[:, index] = 30000."
   ]
  },
  {
   "cell_type": "markdown",
   "metadata": {},
   "source": [
    "## Make the computation"
   ]
  },
  {
   "cell_type": "code",
   "execution_count": 15,
   "metadata": {
    "collapsed": true
   },
   "outputs": [],
   "source": [
    "with tf.Session() as sess:\n",
    "    result = sess.run(tf_formulas['IRN'], feed_dict={tf_inputs: inputs})"
   ]
  },
  {
   "cell_type": "code",
   "execution_count": null,
   "metadata": {
    "collapsed": true
   },
   "outputs": [],
   "source": []
  }
 ],
 "metadata": {
  "kernelspec": {
   "display_name": "Python 3",
   "language": "python",
   "name": "python3"
  },
  "language_info": {
   "codemirror_mode": {
    "name": "ipython",
    "version": 3
   },
   "file_extension": ".py",
   "mimetype": "text/x-python",
   "name": "python",
   "nbconvert_exporter": "python",
   "pygments_lexer": "ipython3",
   "version": "3.4.3"
  }
 },
 "nbformat": 4,
 "nbformat_minor": 0
}
