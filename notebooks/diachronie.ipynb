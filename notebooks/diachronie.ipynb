{
 "cells": [
  {
   "cell_type": "code",
   "execution_count": 1,
   "metadata": {
    "collapsed": true
   },
   "outputs": [],
   "source": [
    "import numpy as np\n",
    "from matplotlib import pyplot as plt\n",
    "\n",
    "import calculette_impots_exemples\n",
    "\n",
    "%matplotlib inline\n"
   ]
  },
  {
   "cell_type": "code",
   "execution_count": 2,
   "metadata": {
    "collapsed": true
   },
   "outputs": [],
   "source": [
    "millesime_names = {\n",
    "    2010: 'sources2010m_7_1',\n",
    "    2011: 'sources2011m_9_6',\n",
    "    2012: 'sources2012m_3_13',\n",
    "    2013: 'sources2013m_3_8',\n",
    "    2014: 'sources2014m_2_15',\n",
    "    2015: 'sourcesm2015m_4_6',\n",
    "    }"
   ]
  },
  {
   "cell_type": "code",
   "execution_count": 6,
   "metadata": {
    "collapsed": true
   },
   "outputs": [],
   "source": [
    "# TSHALLOV = 1AJ\n",
    "alias_values = {'TSHALLOV': np.linspace(0, 99000., 100)}"
   ]
  },
  {
   "cell_type": "code",
   "execution_count": 4,
   "metadata": {},
   "outputs": [
    {
     "name": "stdout",
     "output_type": "stream",
     "text": [
      "2010\n",
      "2011\n",
      "2012\n",
      "2013\n",
      "2014\n",
      "2015\n"
     ]
    }
   ],
   "source": [
    "curves = {}\n",
    "for year, millesime_name in millesime_names.items():\n",
    "    print(year)\n",
    "    vector_engine = calculette_impots_exemples.VectorComputationEngine(millesime_name, 100)\n",
    "    results = vector_engine.compute(alias_values, ['IINET'])\n",
    "    curves[year] = results"
   ]
  },
  {
   "cell_type": "code",
   "execution_count": 16,
   "metadata": {},
   "outputs": [
    {
     "data": {
      "text/plain": [
       "{2010: {'IINET': array([     0.,      0.,      0.,      0.,      0.,      0.,      0.,\n",
       "              0.,      0.,      0.,      0.,      0.,      0.,      0.,\n",
       "            358.,    697.,   1039.,   1377.,   1672.,   1899.,   2126.,\n",
       "           2353.,   2579.,   2806.,   3033.,   3260.,   3487.,   3713.,\n",
       "           3940.,   4167.,   4561.,   5047.,   5533.,   6019.,   6505.,\n",
       "           6991.,   7477.,   7963.,   8449.,   8935.,   9421.,   9907.,\n",
       "          10393.,  10879.,  11365.,  11851.,  12337.,  12823.,  13309.,\n",
       "          13795.,  14281.,  14767.,  15253.,  15739.,  16225.,  16711.,\n",
       "          17197.,  17683.,  18169.,  18655.,  19141.,  19627.,  20113.,\n",
       "          20599.,  21085.,  21571.,  22057.,  22543.,  23029.,  23515.,\n",
       "          24001.,  24487.,  24973.,  25459.,  25945.,  26431.,  26917.,\n",
       "          27403.,  27889.,  28427.,  29092.,  29756.,  30420.,  31084.,\n",
       "          31748.,  32413.,  33077.,  33741.,  34405.,  35069.,  35734.,\n",
       "          36398.,  37062.,  37726.,  38390.,  39055.,  39719.,  40383.,\n",
       "          41047.,  41711.])},\n",
       " 2011: {'IINET': array([     0.,      0.,      0.,      0.,      0.,      0.,      0.,\n",
       "              0.,      0.,      0.,      0.,      0.,      0.,      0.,\n",
       "            358.,    697.,   1039.,   1377.,   1672.,   1899.,   2126.,\n",
       "           2353.,   2579.,   2806.,   3033.,   3260.,   3487.,   3713.,\n",
       "           3940.,   4167.,   4561.,   5047.,   5533.,   6019.,   6505.,\n",
       "           6991.,   7477.,   7963.,   8449.,   8935.,   9421.,   9907.,\n",
       "          10393.,  10879.,  11365.,  11851.,  12337.,  12823.,  13309.,\n",
       "          13795.,  14281.,  14767.,  15253.,  15739.,  16225.,  16711.,\n",
       "          17197.,  17683.,  18169.,  18655.,  19141.,  19627.,  20113.,\n",
       "          20599.,  21085.,  21571.,  22057.,  22543.,  23029.,  23515.,\n",
       "          24001.,  24487.,  24973.,  25459.,  25945.,  26431.,  26917.,\n",
       "          27403.,  27889.,  28427.,  29092.,  29756.,  30420.,  31084.,\n",
       "          31748.,  32413.,  33077.,  33741.,  34405.,  35069.,  35734.,\n",
       "          36398.,  37062.,  37726.,  38390.,  39055.,  39719.,  40383.,\n",
       "          41047.,  41711.])},\n",
       " 2012: {'IINET': array([ 0.,  0.,  0.,  0.,  0.,  0.,  0.,  0.,  0.,  0.,  0.,  0.,  0.,\n",
       "          0.,  0.,  0.,  0.,  0.,  0.,  0.,  0.,  0.,  0.,  0.,  0.,  0.,\n",
       "          0.,  0.,  0.,  0.,  0.,  0.,  0.,  0.,  0.,  0.,  0.,  0.,  0.,\n",
       "          0.,  0.,  0.,  0.,  0.,  0.,  0.,  0.,  0.,  0.,  0.,  0.,  0.,\n",
       "          0.,  0.,  0.,  0.,  0.,  0.,  0.,  0.,  0.,  0.,  0.,  0.,  0.,\n",
       "          0.,  0.,  0.,  0.,  0.,  0.,  0.,  0.,  0.,  0.,  0.,  0.,  0.,\n",
       "          0.,  0.,  0.,  0.,  0.,  0.,  0.,  0.,  0.,  0.,  0.,  0.,  0.,\n",
       "          0.,  0.,  0.,  0.,  0.,  0.,  0.,  0.,  0.])},\n",
       " 2013: {'IINET': array([     0.,      0.,      0.,      0.,      0.,      0.,      0.,\n",
       "              0.,      0.,      0.,      0.,      0.,      0.,      0.,\n",
       "            203.,    544.,    884.,   1224.,   1564.,   1879.,   2106.,\n",
       "           2333.,   2560.,   2786.,   3013.,   3240.,   3467.,   3694.,\n",
       "           3920.,   4147.,   4480.,   4966.,   5452.,   5938.,   6424.,\n",
       "           6910.,   7396.,   7882.,   8368.,   8854.,   9340.,   9826.,\n",
       "          10312.,  10798.,  11284.,  11770.,  12256.,  12742.,  13228.,\n",
       "          13714.,  14200.,  14686.,  15172.,  15658.,  16144.,  16630.,\n",
       "          17116.,  17602.,  18088.,  18574.,  19060.,  19546.,  20032.,\n",
       "          20518.,  21004.,  21490.,  21976.,  22462.,  22948.,  23434.,\n",
       "          23920.,  24406.,  24892.,  25378.,  25864.,  26350.,  26836.,\n",
       "          27322.,  27808.,  28294.,  28901.,  29565.,  30229.,  30893.,\n",
       "          31558.,  32222.,  32886.,  33550.,  34214.,  34879.,  35543.,\n",
       "          36207.,  36871.,  37535.,  38200.,  38864.,  39528.,  40192.,\n",
       "          40856.,  41521.])},\n",
       " 2014: {'IINET': array([     0.,      0.,      0.,      0.,      0.,      0.,      0.,\n",
       "              0.,      0.,      0.,      0.,      0.,      0.,      0.,\n",
       "              0.,      0.,    329.,    783.,   1237.,   1690.,   2093.,\n",
       "           2320.,   2547.,   2774.,   3001.,   3227.,   3454.,   3681.,\n",
       "           3908.,   4135.,   4430.,   4916.,   5402.,   5888.,   6374.,\n",
       "           6860.,   7346.,   7832.,   8318.,   8804.,   9290.,   9776.,\n",
       "          10262.,  10748.,  11234.,  11720.,  12206.,  12692.,  13178.,\n",
       "          13664.,  14150.,  14636.,  15122.,  15608.,  16094.,  16580.,\n",
       "          17066.,  17552.,  18038.,  18524.,  19010.,  19496.,  19982.,\n",
       "          20468.,  20954.,  21440.,  21926.,  22412.,  22898.,  23384.,\n",
       "          23870.,  24356.,  24842.,  25328.,  25814.,  26300.,  26786.,\n",
       "          27272.,  27758.,  28244.,  28778.,  29443.,  30107.,  30771.,\n",
       "          31435.,  32099.,  32764.,  33428.,  34092.,  34756.,  35420.,\n",
       "          36085.,  36749.,  37413.,  38077.,  38741.,  39406.,  40070.,\n",
       "          40734.,  41398.])},\n",
       " 2015: {'IINET': array([ 0.,  0.,  0.,  0.,  0.,  0.,  0.,  0.,  0.,  0.,  0.,  0.,  0.,\n",
       "          0.,  0.,  0.,  0.,  0.,  0.,  0.,  0.,  0.,  0.,  0.,  0.,  0.,\n",
       "          0.,  0.,  0.,  0.,  0.,  0.,  0.,  0.,  0.,  0.,  0.,  0.,  0.,\n",
       "          0.,  0.,  0.,  0.,  0.,  0.,  0.,  0.,  0.,  0.,  0.,  0.,  0.,\n",
       "          0.,  0.,  0.,  0.,  0.,  0.,  0.,  0.,  0.,  0.,  0.,  0.,  0.,\n",
       "          0.,  0.,  0.,  0.,  0.,  0.,  0.,  0.,  0.,  0.,  0.,  0.,  0.,\n",
       "          0.,  0.,  0.,  0.,  0.,  0.,  0.,  0.,  0.,  0.,  0.,  0.,  0.,\n",
       "          0.,  0.,  0.,  0.,  0.,  0.,  0.,  0.,  0.])}}"
      ]
     },
     "execution_count": 16,
     "metadata": {},
     "output_type": "execute_result"
    }
   ],
   "source": [
    "curves"
   ]
  },
  {
   "cell_type": "code",
   "execution_count": 15,
   "metadata": {},
   "outputs": [
    {
     "data": {
      "text/plain": [
       "<matplotlib.legend.Legend at 0x7f4c6bf2e358>"
      ]
     },
     "execution_count": 15,
     "metadata": {},
     "output_type": "execute_result"
    },
    {
     "data": {
      "image/png": "[encoded data removed]",
      "text/plain": [
       "<matplotlib.figure.Figure at 0x7f4c6bf2ea20>"
      ]
     },
     "metadata": {},
     "output_type": "display_data"
    }
   ],
   "source": [
    "for year, curve in curves.items():\n",
    "    plt.plot(alias_values['TSHALLOV'][10:25], curve['IINET'][10:25], label=str(year))\n",
    "plt.legend()"
   ]
  },
  {
   "cell_type": "code",
   "execution_count": null,
   "metadata": {},
   "outputs": [],
   "source": [
    "curves"
   ]
  },
  {
   "cell_type": "code",
   "execution_count": null,
   "metadata": {
    "collapsed": true
   },
   "outputs": [],
   "source": []
  }
 ],
 "metadata": {
  "kernelspec": {
   "display_name": "Python 3",
   "language": "python",
   "name": "python3"
  },
  "language_info": {
   "codemirror_mode": {
    "name": "ipython",
    "version": 3
   },
   "file_extension": ".py",
   "mimetype": "text/x-python",
   "name": "python",
   "nbconvert_exporter": "python",
   "pygments_lexer": "ipython3",
   "version": "3.5.2"
  }
 },
 "nbformat": 4,
 "nbformat_minor": 2
}
