{
 "cells": [
  {
   "cell_type": "code",
   "execution_count": 1,
   "metadata": {
    "collapsed": true
   },
   "outputs": [],
   "source": [
    "import json\n",
    "import math\n",
    "import os"
   ]
  },
  {
   "cell_type": "markdown",
   "metadata": {},
   "source": [
    "## Clean the tree"
   ]
  },
  {
   "cell_type": "code",
   "execution_count": 27,
   "metadata": {
    "collapsed": false
   },
   "outputs": [],
   "source": [
    "dir_name = '/data/projects/calculette-impots/calculette-impots-m-language-parser/json/ast/'\n",
    "file_list = os.listdir(dir_name)"
   ]
  },
  {
   "cell_type": "code",
   "execution_count": 28,
   "metadata": {
    "collapsed": false
   },
   "outputs": [],
   "source": [
    "formulas = []\n",
    "constants = []\n",
    "computed_variables = []\n",
    "input_variables = []\n",
    "for filename in file_list:\n",
    "    f = open(dir_name + filename, 'r')\n",
    "    content = json.load(f)\n",
    "    \n",
    "    for direct_child in content:\n",
    "        child_type = direct_child['type']\n",
    "        if child_type == 'verif':\n",
    "            pass\n",
    "\n",
    "        elif child_type == 'erreur':\n",
    "            pass\n",
    "\n",
    "        elif child_type == 'application':\n",
    "            pass\n",
    "\n",
    "        elif child_type == 'enchaineur':\n",
    "            pass\n",
    "\n",
    "        elif child_type == 'variable_calculee':\n",
    "            name = direct_child['name']\n",
    "            computed_variables.append({'name': name})\n",
    "\n",
    "        elif child_type == 'variable_saisie':\n",
    "            name = direct_child['name']\n",
    "            alias = direct_child['alias']\n",
    "            input_variables.append({'name': name, 'alias': alias})\n",
    " \n",
    "        elif child_type == 'variable_const':\n",
    "            value = float(direct_child['value'])\n",
    "            name = direct_child['name']\n",
    "            constants.append({'name': name, 'value': value})\n",
    "\n",
    "        elif child_type == 'regle':\n",
    "            formulas += direct_child['formulas']\n",
    "\n",
    "        else:\n",
    "            raise ValueError('Unknown child type %s in %s : %s'%(direct_child['type'], filename, str(direct_child)))\n"
   ]
  },
  {
   "cell_type": "code",
   "execution_count": 29,
   "metadata": {
    "collapsed": false
   },
   "outputs": [
    {
     "data": {
      "text/plain": [
       "12009"
      ]
     },
     "execution_count": 29,
     "metadata": {},
     "output_type": "execute_result"
    }
   ],
   "source": [
    "len(formulas)"
   ]
  },
  {
   "cell_type": "code",
   "execution_count": 30,
   "metadata": {
    "collapsed": false
   },
   "outputs": [],
   "source": [
    "def loop_replace(node, old, new):\n",
    "    nodetype = node['nodetype']\n",
    "\n",
    "    if nodetype == 'symbol':\n",
    "        name = node['name']\n",
    "        try:\n",
    "            name = name.replace(old, new)\n",
    "        except TypeError:\n",
    "            print(node, old, new, type(new))\n",
    "            raise TypeError()\n",
    "        return {'nodetype': nodetype, 'name': name} \n",
    "        \n",
    "    if nodetype == 'float':\n",
    "        return node\n",
    "    \n",
    "    if nodetype == 'call':\n",
    "        name = node['name']\n",
    "        args = [loop_replace(child, old, new) for child in node['args']]\n",
    "        return {'nodetype': nodetype, 'name': name, 'args': args}\n",
    "        \n",
    "    raise ValueError('Unknown type : %s'%nodetype)"
   ]
  },
  {
   "cell_type": "code",
   "execution_count": 31,
   "metadata": {
    "collapsed": true
   },
   "outputs": [],
   "source": [
    "def parse_enumeration(enumeration):\n",
    "    enum_type = enumeration['type']\n",
    "    if enum_type == 'enumeration_values':\n",
    "        return enumeration['values']\n",
    "\n",
    "    if enum_type == 'interval':\n",
    "        first = int(enumeration['first'])\n",
    "        last = int(enumeration['last'])\n",
    "        return [i for i in range(first, last+1)]\n",
    "    \n",
    "    raise ValueError('Unknown enumeration type')"
   ]
  },
  {
   "cell_type": "code",
   "execution_count": 32,
   "metadata": {
    "collapsed": false
   },
   "outputs": [],
   "source": [
    "def traversal(node):\n",
    "    nodetype = node['type']\n",
    "    \n",
    "    if nodetype == 'symbol':\n",
    "        name = node['value']\n",
    "        return {'nodetype': 'symbol', 'name': name}\n",
    "\n",
    "    if nodetype == 'integer':\n",
    "        value = node['value']\n",
    "        return {'nodetype': 'float', 'value': float(value)}\n",
    "\n",
    "    if nodetype == 'float':\n",
    "        value = node['value']\n",
    "        return {'nodetype': 'float', 'value': float(value)}\n",
    "\n",
    "    if nodetype == 'function_call':\n",
    "        name = node['name']\n",
    "        \n",
    "        if name == 'somme':\n",
    "            assert(len(node['arguments']) == 1)\n",
    "            arg = node['arguments'][0]\n",
    "            assert(arg['type'] == 'loop_expression')\n",
    "            template = traversal(arg['expression'])\n",
    "            loop_variables = arg['loop_variables']\n",
    "            \n",
    "            templates = [template]\n",
    "            for loop_variable in loop_variables:\n",
    "                assert(loop_variable['type'] == 'loop_variable')\n",
    "                variable_name = loop_variable['name']\n",
    "                enumerations = loop_variable['enumerations']\n",
    "                loop_values = []\n",
    "                for enumeration in enumerations:\n",
    "                    loop_values += [str(i) for i in parse_enumeration(enumeration)]\n",
    "                templates = [loop_replace(template, variable_name, v) for v in loop_values for template in templates]\n",
    "            args = templates\n",
    "            return {'nodetype': 'call', 'name': '+', 'args': args}\n",
    "       \n",
    "        args = [traversal(child) for child in node['arguments']]\n",
    "        return {'nodetype': 'call', 'name': name, 'args': args}\n",
    "\n",
    "    if nodetype == 'sum_expression': \n",
    "        args = [traversal(child) for child in node['operands']]\n",
    "        for i, sign in enumerate(node['operators']):\n",
    "            if sign == '+':\n",
    "                pass\n",
    "            elif sign == '-':\n",
    "                args[i+1] = {\n",
    "                    'nodetype': 'call',\n",
    "                    'name': '-',\n",
    "                    'args': [args[i+1]]\n",
    "                }\n",
    "            else:\n",
    "                raise ValueError('Unknown sign : %s'%sign)\n",
    "        return {'nodetype': 'call', 'name': '+', 'args': args}\n",
    "\n",
    "    if nodetype == 'product_expression':\n",
    "        args = [traversal(child) for child in node['operands']]\n",
    "        for i, sign in enumerate(node['operators']):\n",
    "            if sign == '*':\n",
    "                pass\n",
    "            elif sign == '/':\n",
    "                args[i+1] = {\n",
    "                    'nodetype': 'call',\n",
    "                    'name': '/',\n",
    "                    'args': [{'nodetype': 'float', 'value': 1.}, args[i+1]]\n",
    "                }\n",
    "            else:\n",
    "                raise ValueError('Unknown sign : %s'%sign)\n",
    "        return {'nodetype': 'call', 'name': '*', 'args': args}\n",
    "\n",
    "    if nodetype == 'ternary_operator':\n",
    "        arg1 = traversal(node['condition'])\n",
    "        arg2 = traversal(node['value_if_true'])\n",
    "        if 'value_if_false' in node:\n",
    "            arg3 = traversal(node['value_if_false'])\n",
    "            return {'nodetype': 'call', 'name': 'ternary', 'args': [arg1, arg2, arg3]}\n",
    "        else:\n",
    "            return {'nodetype': 'call', 'name': 'si', 'args': [arg1, arg2]}\n",
    "    \n",
    "    if nodetype == 'comparaison':\n",
    "        arg1 = traversal(node['left_operand'])\n",
    "        arg2 = traversal(node['right_operand'])\n",
    "        name = 'operator:' + node['operator']\n",
    "        return {'nodetype': 'call', 'name': name, 'args': [arg1, arg2]}\n",
    "    \n",
    "    if nodetype == 'boolean_expression':\n",
    "        args = [traversal(child) for child in node['operands']]\n",
    "        operators = node['operators']\n",
    "        \n",
    "        if len(operators) == 1:\n",
    "            name = 'boolean:' + operators[0]\n",
    "            return {'nodetype': 'call', 'name': name, 'args': args}\n",
    "    \n",
    "        args_ou = []\n",
    "        args_et = []\n",
    "        operators.append('ou')\n",
    "        for i, operator in enumerate(operators):\n",
    "            arg_left = args[i]\n",
    "            if operator == 'ou':\n",
    "                if args_et:\n",
    "                    args_et.append(arg_left)\n",
    "                    args_ou.append({'nodetype': 'call', 'name': 'boolean:et', 'args': args_et})\n",
    "                    args_et = []\n",
    "                else:\n",
    "                    args_ou.append(arg_left)\n",
    "            elif operator == 'et':\n",
    "                args_et.append(arg_left)\n",
    "            else:\n",
    "                raise ValueError('Unknown operator %s'%operator)\n",
    "        return {'nodetype': 'call', 'name': 'boolean:ou', 'args': args_ou}\n",
    "    \n",
    "    if nodetype == 'dans':\n",
    "        arg1 = traversal(node['expression'])\n",
    "        enum_values = parse_enumeration(node['enumeration'])\n",
    "        args = [arg1]\n",
    "        args += [{'nodetype': 'float', 'value': float(v)} for v in enum_values]\n",
    "        return {'nodetype': 'call', 'name': 'dans', 'args': args}\n",
    "        \n",
    "    raise ValueError('Unknown type %s : %s'%(nodetype, node))"
   ]
  },
  {
   "cell_type": "code",
   "execution_count": 33,
   "metadata": {
    "collapsed": false
   },
   "outputs": [],
   "source": [
    "formulas_clean = []\n",
    "for formula in formulas:\n",
    "    formula_type = formula['type']\n",
    "    if formula_type == 'formula':\n",
    "        name = formula['name']\n",
    "        expression = formula['expression']\n",
    "        expression_clean = traversal(expression)\n",
    "        formulas_clean.append({'name': name, 'expression': expression_clean})\n",
    "    \n",
    "    elif formula_type == 'pour_formula':\n",
    "        template_exp = traversal(formula['formula']['expression'])\n",
    "        template_name = formula['formula']['name']\n",
    "\n",
    "        templates_exp = [template_exp]\n",
    "        templates_name = [template_name]\n",
    "        loop_variables = formula['loop_variables']\n",
    "        for loop_variable in loop_variables:\n",
    "            assert(loop_variable['type'] == 'loop_variable')\n",
    "            variable_name = loop_variable['name']\n",
    "            enumerations = loop_variable['enumerations']\n",
    "            loop_values = []\n",
    "            for enumeration in enumerations:\n",
    "                loop_values += [str(i) for i in parse_enumeration(enumeration)]\n",
    "            templates_exp = [loop_replace(template, variable_name, v) for v in loop_values for template in templates_exp]\n",
    "            templates_name = [template.replace(variable_name, v) for v in loop_values for template in templates_name]\n",
    "        \n",
    "        for exp, name in zip(templates_exp, templates_name):\n",
    "            formulas_clean.append({'name': name, 'expression': exp})\n",
    "\n",
    "    else:\n",
    "        raise ValueError('Unknown formula type %s'%formula_type)"
   ]
  },
  {
   "cell_type": "code",
   "execution_count": 34,
   "metadata": {
    "collapsed": false
   },
   "outputs": [
    {
     "data": {
      "text/plain": [
       "13949"
      ]
     },
     "execution_count": 34,
     "metadata": {},
     "output_type": "execute_result"
    }
   ],
   "source": [
    "len(formulas_clean)"
   ]
  },
  {
   "cell_type": "code",
   "execution_count": 35,
   "metadata": {
    "collapsed": true
   },
   "outputs": [],
   "source": [
    "formulas_dict = {}\n",
    "for formula in formulas_clean:\n",
    "    name = formula['name']\n",
    "    expression = formula['expression']\n",
    "    formulas_dict[name] = expression"
   ]
  },
  {
   "cell_type": "code",
   "execution_count": 36,
   "metadata": {
    "collapsed": true
   },
   "outputs": [],
   "source": [
    "constants_dict = {}\n",
    "for constant in constants:\n",
    "    name = constant['name']\n",
    "    value = constant['value']\n",
    "    constants_dict[name] = value"
   ]
  },
  {
   "cell_type": "code",
   "execution_count": 39,
   "metadata": {
    "collapsed": false
   },
   "outputs": [],
   "source": [
    "f = open('formulas_dict.json', 'w')\n",
    "f.write(json.dumps(formulas_dict))\n",
    "f.close()\n",
    "f = open('constants_dict.json', 'w')\n",
    "f.write(json.dumps(constants_dict))\n",
    "f.close()\n",
    "f = open('input_variables.json', 'w')\n",
    "f.write(json.dumps(input_variables))\n",
    "f.close()"
   ]
  }
 ],
 "metadata": {
  "kernelspec": {
   "display_name": "Python 3",
   "language": "python",
   "name": "python3"
  },
  "language_info": {
   "codemirror_mode": {
    "name": "ipython",
    "version": 3
   },
   "file_extension": ".py",
   "mimetype": "text/x-python",
   "name": "python",
   "nbconvert_exporter": "python",
   "pygments_lexer": "ipython3",
   "version": "3.4.3"
  }
 },
 "nbformat": 4,
 "nbformat_minor": 0
}
